{
 "cells": [
  {
   "cell_type": "code",
   "execution_count": 21,
   "metadata": {
    "collapsed": false
   },
   "outputs": [
    {
     "name": "stdout",
     "output_type": "stream",
     "text": [
      "original array:\n",
      "<pycuda._driver.DeviceAllocation object at 0x7f2bac8255d0>\n",
      "doubled with gpuarray:\n",
      "[[ 2.09220648  3.61553216 -1.36869669 ..., -1.71180713 -1.85094392\n",
      "   0.68620628]\n",
      " [ 1.04094625 -0.31823     0.5310449  ..., -0.44312555 -0.52778625\n",
      "  -0.38822991]\n",
      " [-0.66438276  1.94193256 -0.37097788 ..., -0.20320164 -0.102201\n",
      "  -0.02553154]\n",
      " ..., \n",
      " [ 1.7212913  -0.55390817 -1.32760954 ..., -1.39914811  0.10575841\n",
      "  -1.68045831]\n",
      " [ 2.1160481  -0.66727191  1.112661   ...,  1.42175162  0.34540194\n",
      "   0.59938377]\n",
      " [ 0.30513272 -0.45355964  0.93997079 ..., -0.93283665 -2.15252495\n",
      "  -0.58889049]]\n",
      "doubled with InOut:\n",
      "[[ 2.09220648  3.61553216 -1.36869669 ..., -1.71180713 -1.85094392\n",
      "   0.68620628]\n",
      " [ 1.04094625 -0.31823     0.5310449  ..., -0.44312555 -0.52778625\n",
      "  -0.38822991]\n",
      " [-0.66438276  1.94193256 -0.37097788 ..., -0.20320164 -0.102201\n",
      "  -0.02553154]\n",
      " ..., \n",
      " [ 1.7212913  -0.55390817 -1.32760954 ..., -1.39914811  0.10575841\n",
      "  -1.68045831]\n",
      " [ 2.1160481  -0.66727191  1.112661   ...,  1.42175162  0.34540194\n",
      "   0.59938377]\n",
      " [ 0.30513272 -0.45355964  0.93997079 ..., -0.93283665 -2.15252495\n",
      "  -0.58889049]]\n",
      "original array:\n",
      "[[ 0.53268832  1.15796828  0.38000104  0.40519124]\n",
      " [ 0.06849007  0.1843615  -0.71682435 -1.29864991]\n",
      " [-1.28050947  0.64955842 -0.09096135 -1.65589106]\n",
      " [ 0.69638306  1.2046231   0.65644842  0.17986092]]\n",
      "doubled with gpuarray:\n",
      "[[ 1.06537664  2.31593657  0.76000208  0.81038249]\n",
      " [ 0.13698015  0.36872301 -1.43364871 -2.59729981]\n",
      " [-2.56101894  1.29911685 -0.1819227  -3.31178212]\n",
      " [ 1.39276612  2.40924621  1.31289685  0.35972184]]\n"
     ]
    }
   ],
   "source": [
    "import pycuda.driver as cuda\n",
    "import pycuda.autoinit\n",
    "from pycuda.compiler import SourceModule\n",
    "\n",
    "import numpy\n",
    "a = numpy.random.randn(40,40)\n",
    "\n",
    "a = a.astype(numpy.float32)\n",
    "\n",
    "a_gpu = cuda.mem_alloc(a.size * a.dtype.itemsize)\n",
    "\n",
    "cuda.memcpy_htod(a_gpu, a)\n",
    "\n",
    "mod = SourceModule(\"\"\"\n",
    "    __global__ void doublify(float *a)\n",
    "    {\n",
    "      int idx = threadIdx.x + threadIdx.y*4;\n",
    "      a[idx] *= 2;\n",
    "    }\n",
    "    \"\"\")\n",
    "\n",
    "func = mod.get_function(\"doublify\")\n",
    "func(a_gpu, block=(4,4,1))\n",
    "\n",
    "a_doubled = numpy.empty_like(a)\n",
    "cuda.memcpy_dtoh(a_doubled, a_gpu)\n",
    "print(\"original array:\")\n",
    "print(a_gpu)\n",
    "print(\"doubled with gpuarray:\")\n",
    "print(a_doubled)\n",
    "\n",
    "# alternate kernel invocation -------------------------------------------------\n",
    "\n",
    "func(cuda.InOut(a), block=(4, 4, 1))\n",
    "print(\"doubled with InOut:\")\n",
    "print(a)\n",
    "\n",
    "# part 2 ----------------------------------------------------------------------\n",
    "\n",
    "import pycuda.gpuarray as gpuarray\n",
    "a_gpu = gpuarray.to_gpu(numpy.random.randn(4,4).astype(numpy.float32))\n",
    "a_doubled = (2*a_gpu).get()\n",
    "\n",
    "print(\"original array:\")\n",
    "print(a_gpu)\n",
    "print(\"doubled with gpuarray:\")\n",
    "print(a_doubled)"
   ]
  },
  {
   "cell_type": "code",
   "execution_count": null,
   "metadata": {
    "collapsed": true
   },
   "outputs": [],
   "source": []
  }
 ],
 "metadata": {
  "kernelspec": {
   "display_name": "Python 3",
   "language": "python",
   "name": "python3"
  },
  "language_info": {
   "codemirror_mode": {
    "name": "ipython",
    "version": 3
   },
   "file_extension": ".py",
   "mimetype": "text/x-python",
   "name": "python",
   "nbconvert_exporter": "python",
   "pygments_lexer": "ipython3",
   "version": "3.5.1+"
  }
 },
 "nbformat": 4,
 "nbformat_minor": 1
}
