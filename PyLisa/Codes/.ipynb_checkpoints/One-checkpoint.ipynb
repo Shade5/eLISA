{
 "cells": [
  {
   "cell_type": "code",
   "execution_count": 1,
   "metadata": {
    "collapsed": false
   },
   "outputs": [],
   "source": [
    "from math import sqrt,cos,sin,pi\n",
    "from mpl_toolkits.mplot3d import Axes3D\n",
    "import numpy as np\n",
    "import matplotlib\n",
    "import matplotlib.pyplot as plt\n",
    "from scipy import integrate\n",
    "import scipy.optimize\n",
    "import plotly.plotly as py\n",
    "py.sign_in('Shade5', 'onjc1n7jlw')\n",
    "from plotly.graph_objs import *\n",
    "import plotly.graph_objs as go\n",
    "import scipy.io"
   ]
  },
  {
   "cell_type": "code",
   "execution_count": 106,
   "metadata": {
    "collapsed": false
   },
   "outputs": [],
   "source": [
    "def f(t,y):\n",
    "    G=39.4316;\n",
    "    \n",
    "    GM=G;\n",
    "    Ge=G*3.0025*10**(-6);\n",
    "    Ga=0*G*3.6953*10**(-8);\n",
    "    \n",
    "    rse=sqrt((y[ 0]-y[ 6])**2+(y[ 1]-y[ 7])**2+(y[ 2]-y[ 8])**2);\n",
    "    rsa=sqrt((y[12]-y[ 6])**2+(y[13]-y[ 7])**2+(y[14]-y[ 8])**2);\n",
    "    rae=sqrt((y[ 0]-y[12])**2+(y[ 1]-y[13])**2+(y[ 2]-y[14])**2);\n",
    "    \n",
    "    n = len(y)      # 1: implies its a single ODE\n",
    "    rk = np.zeros((n,1))\n",
    "    \n",
    "    rk=[y[3],\n",
    "        y[4],\n",
    "        y[5],\n",
    "        GM*(y[6]-y[0])/rse**2 + Ga*(y[12]-y[0])/rae**2,\n",
    "        GM*(y[7]-y[1])/rse**2 + Ga*(y[13]-y[1])/rae**2,\n",
    "        GM*(y[8]-y[2])/rse**2 + Ga*(y[14]-y[2])/rae**2,\n",
    "        y[9],\n",
    "        y[10],\n",
    "        y[11],\n",
    "        Ge*(y[0]-y[6])/rse**2 + Ga*(y[12]-y[6])/rsa**2,\n",
    "        Ge*(y[1]-y[7])/rse**2 + Ga*(y[13]-y[7])/rsa**2,\n",
    "        Ge*(y[2]-y[8])/rse**2 + Ga*(y[14]-y[8])/rsa**2,\n",
    "        y[15],\n",
    "        y[16],\n",
    "        y[17],\n",
    "        Ge*(y[0]-y[12])/rae**2 + GM*(y[6]-y[12])/rsa**2,\n",
    "        Ge*(y[1]-y[13])/rae**2 + GM*(y[7]-y[13])/rsa**2,\n",
    "        Ge*(y[2]-y[14])/rae**2 + GM*(y[8]-y[14])/rsa**2],\n",
    "\n",
    "    return rk;"
   ]
  },
  {
   "cell_type": "code",
   "execution_count": 119,
   "metadata": {
    "collapsed": false
   },
   "outputs": [],
   "source": [
    "def earsunsat(xe,ve,xs,vs,xa,va):\n",
    "\n",
    "    t_start = 0.0\n",
    "    t_final = 5\n",
    "    delta_t = 1/(365*24*60)\n",
    "    # Number of time steps: 1 extra for initial condition\n",
    "    num_steps = np.floor((t_final - t_start)/delta_t) + 1\n",
    "  \n",
    "    \n",
    "    r = integrate.ode(f).set_integrator('dop853', method='bdf')\n",
    "    \n",
    "    \n",
    "    initial=[xe[0],xe[1],xe[2],\n",
    "             ve[0],ve[1],ve[2],\n",
    "             xs[0],xs[1],xs[2],\n",
    "             vs[0],vs[1],vs[2],\n",
    "             xa[0],xa[1],xa[2],\n",
    "             va[0],va[1],va[2]];\n",
    "    \n",
    "    r.set_initial_value(initial, t_start)\n",
    "    \n",
    "    t = np.zeros((num_steps, 1),dtype='float32')\n",
    "    x = np.zeros((num_steps, 18),dtype='float32')\n",
    "    t[0] = t_start\n",
    "    x[0] = initial\n",
    "    \n",
    "    \n",
    "    k = 1\n",
    "    while r.successful() and k < num_steps:\n",
    "        r.integrate(r.t + delta_t)\n",
    " \n",
    "        # Store the results to plot later\n",
    "        t[k] = r.t\n",
    "        x[k] = r.y\n",
    "        k += 1\n",
    " \n",
    "        \n",
    "    E=x[:,0:3];\n",
    "    Ev=x[:,3:6];\n",
    "    S=x[:,6:9];\n",
    "    Sv=x[:,9:12];\n",
    "    A=x[:,12:15];\n",
    "    Av=x[:,15:18];\n",
    "        \n",
    "    return E,Ev,S,Sv,A,Av\n"
   ]
  },
  {
   "cell_type": "code",
   "execution_count": 120,
   "metadata": {
    "collapsed": false
   },
   "outputs": [],
   "source": [
    "def encheck3bd(E,Ev,S,Sv,A,Av):\n",
    "\n",
    "    G=39.4316;\n",
    "    \n",
    "    M=1;\n",
    "    m=3.0025*10**(-6);\n",
    "    a=0*3.6953*10**(-8);\n",
    "    \n",
    "    KE = 0.5*(m*(np.square(Ev[:,0])+np.square(Ev[:,1])+np.square(Ev[:,2]))\n",
    "             +M*(np.square(Sv[:,0])+np.square(Sv[:,1])+np.square(Sv[:,2]))\n",
    "             +a*(np.square(Av[:,0])+np.square(Av[:,1])+np.square(Av[:,2])));\n",
    "         \n",
    "    rse=np.sqrt(np.square(E[:,0]-S[:,0])+np.square(E[:,1]-S[:,1])+np.square(E[:,2]-S[:,2]));\n",
    "    rae=np.sqrt(np.square(E[:,0]-A[:,0])+np.square(E[:,1]-A[:,1])+np.square(E[:,2]-A[:,2]));\n",
    "    ras=np.sqrt(np.square(S[:,0]-A[:,0])+np.square(S[:,1]-A[:,1])+np.square(S[:,2]-A[:,2]));\n",
    "    \n",
    "    PE = -G*M*m*np.reciprocal(rse)-G*M*a*np.reciprocal(ras) -G*a*m*np.reciprocal(rae);\n",
    "    \n",
    "    \n",
    "    \n",
    "    #plt.plot(KE,'r');\n",
    "    #plt.plot(PE,'g');\n",
    "    #print(np.var(KE+PE))\n",
    "\n",
    "    scipy.io.savemat('KE832', mdict={'KE': KE})\n",
    "    scipy.io.savemat('PE832', mdict={'PE': PE})\n",
    "\n",
    "    \n",
    "\n"
   ]
  },
  {
   "cell_type": "code",
   "execution_count": 121,
   "metadata": {
    "collapsed": false
   },
   "outputs": [],
   "source": [
    "def ditances(E1,E2,E3):\n",
    "     \n",
    "    E12=np.sqrt((E1[:,0]-E2[:,0])**2+(E1[:,1]-E2[:,1])**2+(E1[:,2]-E2[:,2])**2);\n",
    "    E13=np.sqrt((E1[:,0]-E3[:,0])**2+(E1[:,1]-E3[:,1])**2+(E1[:,2]-E3[:,2])**2);\n",
    "    E32=np.sqrt((E3[:,0]-E2[:,0])**2+(E3[:,1]-E2[:,1])**2+(E3[:,2]-E2[:,2])**2);\n",
    "            \n",
    "    plt.plot(E12,'r');\n",
    "    plt.plot(E13,'b');\n",
    "    plt.plot(E32,'g');\n",
    "    plt.show()\n",
    "    \n",
    "    return np.sum(np.square(E12-L))+np.sum(np.square(E13-L))+np.sum(np.square(E32-L))\n",
    "            \n",
    "    \n"
   ]
  },
  {
   "cell_type": "code",
   "execution_count": 122,
   "metadata": {
    "collapsed": true
   },
   "outputs": [],
   "source": [
    "def ditances2(E1,E2,E3):\n",
    "     \n",
    "    E12=np.sqrt((E1[:,0]-E2[:,0])**2+(E1[:,1]-E2[:,1])**2+(E1[:,2]-E2[:,2])**2);\n",
    "    E13=np.sqrt((E1[:,0]-E3[:,0])**2+(E1[:,1]-E3[:,1])**2+(E1[:,2]-E3[:,2])**2);\n",
    "    E32=np.sqrt((E3[:,0]-E2[:,0])**2+(E3[:,1]-E2[:,1])**2+(E3[:,2]-E2[:,2])**2);\n",
    "    print(E12[0])\n",
    "    print(E13[0])\n",
    "    print(E32[0])\n",
    "            \n",
    "\n",
    "            "
   ]
  },
  {
   "cell_type": "code",
   "execution_count": 123,
   "metadata": {
    "collapsed": false
   },
   "outputs": [],
   "source": [
    "mat = scipy.io.loadmat('./Data/datae.mat')\n",
    "M1=mat['E1']\n",
    "mat = scipy.io.loadmat('./Data/dataev.mat')\n",
    "Mv1=mat['Ev1']"
   ]
  },
  {
   "cell_type": "code",
   "execution_count": 125,
   "metadata": {
    "collapsed": false,
    "scrolled": true
   },
   "outputs": [
    {
     "name": "stdout",
     "output_type": "stream",
     "text": [
      "float32\n"
     ]
    },
    {
     "name": "stderr",
     "output_type": "stream",
     "text": [
      "/home/a/workspace/eLISA/PyLisa/env/lib/python3.5/site-packages/ipykernel/__main__.py:24: VisibleDeprecationWarning:\n",
      "\n",
      "using a non-integer number instead of an integer will result in an error in the future\n",
      "\n",
      "/home/a/workspace/eLISA/PyLisa/env/lib/python3.5/site-packages/ipykernel/__main__.py:25: VisibleDeprecationWarning:\n",
      "\n",
      "using a non-integer number instead of an integer will result in an error in the future\n",
      "\n"
     ]
    }
   ],
   "source": [
    "L=0.0067;\n",
    "\n",
    "xe=[1.0167,0,0];\n",
    "ve=[0,6.1745,0];\n",
    "xs=[0,0,0];\n",
    "vs=[0,0,0];\n",
    "xa=[0.9611,-0.3295,L/2];\n",
    "va=[2.0364,5.8381,0];\n",
    "\n",
    "[E1,Ev1,S,Sv,A1,Av1]= earsunsat(xe,ve,xs,vs,xa,va);\n",
    "\n",
    "encheck3bd(E1,Ev1,S,Sv,A1,Av1)\n",
    "\n",
    "\n"
   ]
  },
  {
   "cell_type": "code",
   "execution_count": 40,
   "metadata": {
    "collapsed": false
   },
   "outputs": [
    {
     "ename": "AttributeError",
     "evalue": "'numpy.ndarray' object has no attribute 'items'",
     "output_type": "error",
     "traceback": [
      "\u001b[0;31m---------------------------------------------------------------------------\u001b[0m",
      "\u001b[0;31mAttributeError\u001b[0m                            Traceback (most recent call last)",
      "\u001b[0;32m<ipython-input-40-29a6704b4ddd>\u001b[0m in \u001b[0;36m<module>\u001b[0;34m()\u001b[0m\n\u001b[0;32m----> 1\u001b[0;31m \u001b[0mencheck3bd\u001b[0m\u001b[0;34m(\u001b[0m\u001b[0mE1\u001b[0m\u001b[0;34m,\u001b[0m\u001b[0mEv1\u001b[0m\u001b[0;34m,\u001b[0m\u001b[0mS\u001b[0m\u001b[0;34m,\u001b[0m\u001b[0mSv\u001b[0m\u001b[0;34m,\u001b[0m\u001b[0mA1\u001b[0m\u001b[0;34m,\u001b[0m\u001b[0mAv1\u001b[0m\u001b[0;34m)\u001b[0m\u001b[0;34m\u001b[0m\u001b[0m\n\u001b[0m",
      "\u001b[0;32m<ipython-input-36-c600169406b0>\u001b[0m in \u001b[0;36mencheck3bd\u001b[0;34m(E, Ev, S, Sv, A, Av)\u001b[0m\n\u001b[1;32m     22\u001b[0m     \u001b[0;31m#plt.plot(PE,'g');\u001b[0m\u001b[0;34m\u001b[0m\u001b[0;34m\u001b[0m\u001b[0m\n\u001b[1;32m     23\u001b[0m     \u001b[0;31m#print(np.var(KE+PE))\u001b[0m\u001b[0;34m\u001b[0m\u001b[0;34m\u001b[0m\u001b[0m\n\u001b[0;32m---> 24\u001b[0;31m     \u001b[0mscipy\u001b[0m\u001b[0;34m.\u001b[0m\u001b[0mio\u001b[0m\u001b[0;34m.\u001b[0m\u001b[0msavemat\u001b[0m\u001b[0;34m(\u001b[0m\u001b[0;34m'KE8'\u001b[0m\u001b[0;34m,\u001b[0m\u001b[0mKE\u001b[0m\u001b[0;34m)\u001b[0m\u001b[0;34m\u001b[0m\u001b[0m\n\u001b[0m\u001b[1;32m     25\u001b[0m     \u001b[0mscipy\u001b[0m\u001b[0;34m.\u001b[0m\u001b[0mio\u001b[0m\u001b[0;34m.\u001b[0m\u001b[0msavemat\u001b[0m\u001b[0;34m(\u001b[0m\u001b[0;34m'PE8'\u001b[0m\u001b[0;34m,\u001b[0m\u001b[0mPE\u001b[0m\u001b[0;34m)\u001b[0m\u001b[0;34m\u001b[0m\u001b[0m\n\u001b[1;32m     26\u001b[0m \u001b[0;34m\u001b[0m\u001b[0m\n",
      "\u001b[0;32m/home/a/workspace/eLISA/PyLisa/env/lib/python3.5/site-packages/scipy/io/matlab/mio.py\u001b[0m in \u001b[0;36msavemat\u001b[0;34m(file_name, mdict, appendmat, format, long_field_names, do_compression, oned_as)\u001b[0m\n\u001b[1;32m    209\u001b[0m     \u001b[0;32melse\u001b[0m\u001b[0;34m:\u001b[0m\u001b[0;34m\u001b[0m\u001b[0m\n\u001b[1;32m    210\u001b[0m         \u001b[0;32mraise\u001b[0m \u001b[0mValueError\u001b[0m\u001b[0;34m(\u001b[0m\u001b[0;34m\"Format should be '4' or '5'\"\u001b[0m\u001b[0;34m)\u001b[0m\u001b[0;34m\u001b[0m\u001b[0m\n\u001b[0;32m--> 211\u001b[0;31m     \u001b[0mMW\u001b[0m\u001b[0;34m.\u001b[0m\u001b[0mput_variables\u001b[0m\u001b[0;34m(\u001b[0m\u001b[0mmdict\u001b[0m\u001b[0;34m)\u001b[0m\u001b[0;34m\u001b[0m\u001b[0m\n\u001b[0m\u001b[1;32m    212\u001b[0m     \u001b[0;32mif\u001b[0m \u001b[0mfile_is_string\u001b[0m\u001b[0;34m:\u001b[0m\u001b[0;34m\u001b[0m\u001b[0m\n\u001b[1;32m    213\u001b[0m         \u001b[0mfile_stream\u001b[0m\u001b[0;34m.\u001b[0m\u001b[0mclose\u001b[0m\u001b[0;34m(\u001b[0m\u001b[0;34m)\u001b[0m\u001b[0;34m\u001b[0m\u001b[0m\n",
      "\u001b[0;32m/home/a/workspace/eLISA/PyLisa/env/lib/python3.5/site-packages/scipy/io/matlab/mio5.py\u001b[0m in \u001b[0;36mput_variables\u001b[0;34m(self, mdict, write_header)\u001b[0m\n\u001b[1;32m    829\u001b[0m             \u001b[0mself\u001b[0m\u001b[0;34m.\u001b[0m\u001b[0mwrite_file_header\u001b[0m\u001b[0;34m(\u001b[0m\u001b[0;34m)\u001b[0m\u001b[0;34m\u001b[0m\u001b[0m\n\u001b[1;32m    830\u001b[0m         \u001b[0mself\u001b[0m\u001b[0;34m.\u001b[0m\u001b[0m_matrix_writer\u001b[0m \u001b[0;34m=\u001b[0m \u001b[0mVarWriter5\u001b[0m\u001b[0;34m(\u001b[0m\u001b[0mself\u001b[0m\u001b[0;34m)\u001b[0m\u001b[0;34m\u001b[0m\u001b[0m\n\u001b[0;32m--> 831\u001b[0;31m         \u001b[0;32mfor\u001b[0m \u001b[0mname\u001b[0m\u001b[0;34m,\u001b[0m \u001b[0mvar\u001b[0m \u001b[0;32min\u001b[0m \u001b[0mmdict\u001b[0m\u001b[0;34m.\u001b[0m\u001b[0mitems\u001b[0m\u001b[0;34m(\u001b[0m\u001b[0;34m)\u001b[0m\u001b[0;34m:\u001b[0m\u001b[0;34m\u001b[0m\u001b[0m\n\u001b[0m\u001b[1;32m    832\u001b[0m             \u001b[0;32mif\u001b[0m \u001b[0mname\u001b[0m\u001b[0;34m[\u001b[0m\u001b[0;36m0\u001b[0m\u001b[0;34m]\u001b[0m \u001b[0;34m==\u001b[0m \u001b[0;34m'_'\u001b[0m\u001b[0;34m:\u001b[0m\u001b[0;34m\u001b[0m\u001b[0m\n\u001b[1;32m    833\u001b[0m                 \u001b[0;32mcontinue\u001b[0m\u001b[0;34m\u001b[0m\u001b[0m\n",
      "\u001b[0;31mAttributeError\u001b[0m: 'numpy.ndarray' object has no attribute 'items'"
     ]
    }
   ],
   "source": [
    "encheck3bd(E1,Ev1,S,Sv,A1,Av1)"
   ]
  },
  {
   "cell_type": "code",
   "execution_count": 35,
   "metadata": {
    "collapsed": false
   },
   "outputs": [
    {
     "ename": "NameError",
     "evalue": "name 'M1v' is not defined",
     "output_type": "error",
     "traceback": [
      "\u001b[0;31m---------------------------------------------------------------------------\u001b[0m",
      "\u001b[0;31mNameError\u001b[0m                                 Traceback (most recent call last)",
      "\u001b[0;32m<ipython-input-35-40c603c948d0>\u001b[0m in \u001b[0;36m<module>\u001b[0;34m()\u001b[0m\n\u001b[1;32m     27\u001b[0m KE = 0.5*(m*(np.square(M1v[:,0])+np.square(M1v[:,1])+np.square(M1v[:,2]))\n\u001b[1;32m     28\u001b[0m          \u001b[0;34m+\u001b[0m\u001b[0mM\u001b[0m\u001b[0;34m*\u001b[0m\u001b[0;34m(\u001b[0m\u001b[0mnp\u001b[0m\u001b[0;34m.\u001b[0m\u001b[0msquare\u001b[0m\u001b[0;34m(\u001b[0m\u001b[0mSv\u001b[0m\u001b[0;34m[\u001b[0m\u001b[0;34m:\u001b[0m\u001b[0;34m,\u001b[0m\u001b[0;36m0\u001b[0m\u001b[0;34m]\u001b[0m\u001b[0;34m)\u001b[0m\u001b[0;34m+\u001b[0m\u001b[0mnp\u001b[0m\u001b[0;34m.\u001b[0m\u001b[0msquare\u001b[0m\u001b[0;34m(\u001b[0m\u001b[0mSv\u001b[0m\u001b[0;34m[\u001b[0m\u001b[0;34m:\u001b[0m\u001b[0;34m,\u001b[0m\u001b[0;36m1\u001b[0m\u001b[0;34m]\u001b[0m\u001b[0;34m)\u001b[0m\u001b[0;34m+\u001b[0m\u001b[0mnp\u001b[0m\u001b[0;34m.\u001b[0m\u001b[0msquare\u001b[0m\u001b[0;34m(\u001b[0m\u001b[0mSv\u001b[0m\u001b[0;34m[\u001b[0m\u001b[0;34m:\u001b[0m\u001b[0;34m,\u001b[0m\u001b[0;36m2\u001b[0m\u001b[0;34m]\u001b[0m\u001b[0;34m)\u001b[0m\u001b[0;34m)\u001b[0m\u001b[0;34m\u001b[0m\u001b[0m\n\u001b[0;32m---> 29\u001b[0;31m          +a*(np.square(Av[:,0])+np.square(Av[:,1])+np.square(Av[:,2])));\n\u001b[0m\u001b[1;32m     30\u001b[0m \u001b[0;34m\u001b[0m\u001b[0m\n\u001b[1;32m     31\u001b[0m \u001b[0mrse\u001b[0m\u001b[0;34m=\u001b[0m\u001b[0mnp\u001b[0m\u001b[0;34m.\u001b[0m\u001b[0msqrt\u001b[0m\u001b[0;34m(\u001b[0m\u001b[0mnp\u001b[0m\u001b[0;34m.\u001b[0m\u001b[0msquare\u001b[0m\u001b[0;34m(\u001b[0m\u001b[0mM1\u001b[0m\u001b[0;34m[\u001b[0m\u001b[0;34m:\u001b[0m\u001b[0;34m,\u001b[0m\u001b[0;36m0\u001b[0m\u001b[0;34m]\u001b[0m\u001b[0;34m-\u001b[0m\u001b[0mS\u001b[0m\u001b[0;34m[\u001b[0m\u001b[0;34m:\u001b[0m\u001b[0;34m,\u001b[0m\u001b[0;36m0\u001b[0m\u001b[0;34m]\u001b[0m\u001b[0;34m)\u001b[0m\u001b[0;34m+\u001b[0m\u001b[0mnp\u001b[0m\u001b[0;34m.\u001b[0m\u001b[0msquare\u001b[0m\u001b[0;34m(\u001b[0m\u001b[0mM1\u001b[0m\u001b[0;34m[\u001b[0m\u001b[0;34m:\u001b[0m\u001b[0;34m,\u001b[0m\u001b[0;36m1\u001b[0m\u001b[0;34m]\u001b[0m\u001b[0;34m-\u001b[0m\u001b[0mS\u001b[0m\u001b[0;34m[\u001b[0m\u001b[0;34m:\u001b[0m\u001b[0;34m,\u001b[0m\u001b[0;36m1\u001b[0m\u001b[0;34m]\u001b[0m\u001b[0;34m)\u001b[0m\u001b[0;34m+\u001b[0m\u001b[0mnp\u001b[0m\u001b[0;34m.\u001b[0m\u001b[0msquare\u001b[0m\u001b[0;34m(\u001b[0m\u001b[0mM1\u001b[0m\u001b[0;34m[\u001b[0m\u001b[0;34m:\u001b[0m\u001b[0;34m,\u001b[0m\u001b[0;36m2\u001b[0m\u001b[0;34m]\u001b[0m\u001b[0;34m-\u001b[0m\u001b[0mS\u001b[0m\u001b[0;34m[\u001b[0m\u001b[0;34m:\u001b[0m\u001b[0;34m,\u001b[0m\u001b[0;36m2\u001b[0m\u001b[0;34m]\u001b[0m\u001b[0;34m)\u001b[0m\u001b[0;34m)\u001b[0m\u001b[0;34m;\u001b[0m\u001b[0;34m\u001b[0m\u001b[0m\n",
      "\u001b[0;31mNameError\u001b[0m: name 'M1v' is not defined"
     ]
    }
   ],
   "source": [
    "    \n",
    "    G=39.4316;\n",
    "    \n",
    "    M=1;\n",
    "    \n",
    "    m=3.0025*10**(-6);\n",
    "    a=0*3.6953*10**(-8);\n",
    "    A=A1\n",
    "    Av=Av1\n",
    "    \n",
    "    KE = 0.5*(m*(np.square(Ev1[:,0])+np.square(Ev1[:,1])+np.square(Ev1[:,2]))\n",
    "             +M*(np.square(Sv[:,0])+np.square(Sv[:,1])+np.square(Sv[:,2]))\n",
    "             +a*(np.square(Av[:,0])+np.square(Av[:,1])+np.square(Av[:,2])));\n",
    "         \n",
    "    rse=np.sqrt(np.square(E1[:,0]-S[:,0])+np.square(E1[:,1]-S[:,1])+np.square(E1[:,2]-S[:,2]));\n",
    "    rae=np.sqrt(np.square(E1[:,0]-A[:,0])+np.square(E1[:,1]-A[:,1])+np.square(E1[:,2]-A[:,2]));\n",
    "    ras=np.sqrt(np.square(S[:,0]-A[:,0])+np.square(S[:,1]-A[:,1])+np.square(S[:,2]-A[:,2]));\n",
    "    \n",
    "    PE = -G*M*m*np.reciprocal(rse)-G*M*a*np.reciprocal(ras) -G*a*m*np.reciprocal(rae);\n",
    "    \n",
    "    \n",
    "    \n",
    "    #plt.plot(KE,'r');\n",
    "    #plt.plot(PE,'g');\n",
    "    #print(np.var(KE+PE))\n",
    "    plt.plot(KE+PE,'b');\n",
    "    \n",
    "    KE = 0.5*(m*(np.square(M1v[:,0])+np.square(M1v[:,1])+np.square(M1v[:,2]))\n",
    "             +M*(np.square(Sv[:,0])+np.square(Sv[:,1])+np.square(Sv[:,2]))\n",
    "             +a*(np.square(Av[:,0])+np.square(Av[:,1])+np.square(Av[:,2])));\n",
    "         \n",
    "    rse=np.sqrt(np.square(M1[:,0]-S[:,0])+np.square(M1[:,1]-S[:,1])+np.square(M1[:,2]-S[:,2]));\n",
    "    rae=np.sqrt(np.square(M1[:,0]-A[:,0])+np.square(M1[:,1]-A[:,1])+np.square(M1[:,2]-A[:,2]));\n",
    "    ras=np.sqrt(np.square(S[:,0]-A[:,0])+np.square(S[:,1]-A[:,1])+np.square(S[:,2]-A[:,2]));\n",
    "    \n",
    "    PE = -G*M*m*np.reciprocal(rse)-G*M*a*np.reciprocal(ras) -G*a*m*np.reciprocal(rae);\n",
    "    \n",
    "    \n",
    "    \n",
    "    #plt.plot(KE,'r');\n",
    "    #plt.plot(PE,'g');\n",
    "    #print(np.var(KE+PE))\n",
    "    plt.plot(KE+PE,'r');\n",
    "    \n",
    "    plt.show()"
   ]
  },
  {
   "cell_type": "code",
   "execution_count": 10,
   "metadata": {
    "collapsed": false,
    "scrolled": true
   },
   "outputs": [
    {
     "data": {
      "image/png": "[encoded data removed]",
      "text/plain": [
       "<matplotlib.figure.Figure at 0x7f00d8af1710>"
      ]
     },
     "metadata": {},
     "output_type": "display_data"
    },
    {
     "data": {
      "text/plain": [
       "18.749618099497994"
      ]
     },
     "execution_count": 10,
     "metadata": {},
     "output_type": "execute_result"
    }
   ],
   "source": [
    "ditances(A1,A2,A3)"
   ]
  },
  {
   "cell_type": "code",
   "execution_count": 12,
   "metadata": {
    "collapsed": false
   },
   "outputs": [
    {
     "data": {
      "text/html": [
       "<script>requirejs.config({paths: { 'plotly': ['https://cdn.plot.ly/plotly-latest.min']},});if(!window.Plotly) {{require(['plotly'],function(plotly) {window.Plotly=plotly;});}}</script>"
      ],
      "text/plain": [
       "<IPython.core.display.HTML object>"
      ]
     },
     "metadata": {},
     "output_type": "display_data"
    },
    {
     "name": "stdout",
     "output_type": "stream",
     "text": [
      "Loading...\n"
     ]
    },
    {
     "data": {
      "text/html": [
       "<iframe id=\"igraph\" scrolling=\"no\" style=\"border:none;\" seamless=\"seamless\" src=\"https://plot.ly/~Shade5/4.embed\" height=\"525px\" width=\"100%\"></iframe>"
      ],
      "text/plain": [
       "<plotly.tools.PlotlyDisplay object>"
      ]
     },
     "execution_count": 12,
     "metadata": {},
     "output_type": "execute_result"
    }
   ],
   "source": [
    "from plotly.offline import download_plotlyjs, init_notebook_mode\n",
    "init_notebook_mode(connected=True)\n",
    "sat1s = Scatter3d(\n",
    "        x=A1[0,0],\n",
    "        y=A1[0,1],\n",
    "        z=A1[0,2], \n",
    "        mode = 'markers',\n",
    "        marker = dict(\n",
    "        size = 10,\n",
    "        color = 'rgba(152, 0, 0, .8)',\n",
    "        line = dict(\n",
    "            width = 2,\n",
    "            color = 'rgb(0, 0, 0)'\n",
    "            )\n",
    "        )\n",
    "    )\n",
    "\n",
    "sat1 = Scatter3d(\n",
    "        x=A1[::100,0],\n",
    "        y=A1[::100,1],\n",
    "        z=A1[::100,2], \n",
    "        marker=dict(\n",
    "            size=1,\n",
    "            colorscale='Viridis',\n",
    "        )\n",
    "    )\n",
    "\n",
    "sat2s = Scatter3d(\n",
    "        x=A2[0,0],\n",
    "        y=A2[0,1],\n",
    "        z=A2[0,2], \n",
    "        marker = dict(\n",
    "        size = 10,\n",
    "        color = 'rgba(0, 152, 0, .8)',\n",
    "        line = dict(\n",
    "            width = 2,\n",
    "            color = 'rgb(0, 0, 0)'\n",
    "            )\n",
    "        )\n",
    "    )\n",
    "\n",
    "sat2 = Scatter3d(\n",
    "        x=A2[::100,0],\n",
    "        y=A2[::100,1],\n",
    "        z=A2[::100,2], \n",
    "        marker=dict(\n",
    "            size=1,\n",
    "            colorscale='Viridis',\n",
    "        )\n",
    "    )\n",
    "\n",
    "sat3s = Scatter3d(\n",
    "        x=A3[0,0],\n",
    "        y=A3[0,1],\n",
    "        z=A3[0,2], \n",
    "        marker = dict(\n",
    "        size = 10,\n",
    "        color = 'rgba(0, 0, 152, .8)',\n",
    "        line = dict(\n",
    "            width = 2,\n",
    "            color = 'rgb(0, 0, 0)'\n",
    "            )\n",
    "        )\n",
    "    )\n",
    "\n",
    "\n",
    "\n",
    "sat3 = Scatter3d(\n",
    "        x=A3[::100,0],\n",
    "        y=A3[::100,1],\n",
    "        z=A3[::100,2], \n",
    "        marker=dict(\n",
    "            size=1,\n",
    "            colorscale='Viridis',\n",
    "        )\n",
    "    )\n",
    "\n",
    "e = Scatter3d(\n",
    "        x=E1[0,0],\n",
    "        y=E1[0,1],\n",
    "        z=E1[0,2], \n",
    "        marker = dict(\n",
    "        size = 10,\n",
    "        color = 'rgba(0, 0, 152, .8)',\n",
    "        line = dict(\n",
    "            width = 2,\n",
    "            color = 'rgb(0, 0, 0)'\n",
    "            )\n",
    "        )\n",
    "    )\n",
    "\n",
    "earth = Scatter3d(\n",
    "        x=E1[::100,0],\n",
    "        y=E1[::100,1],\n",
    "        z=E1[::100,2], \n",
    "        marker=dict(\n",
    "            size=1,\n",
    "        color = 'rgba(0, 0, 200, .8)',\n",
    "            colorscale='Viridis',\n",
    "        )\n",
    "    )\n",
    "earth2 = Scatter3d(\n",
    "        x=M1[::1000,0],\n",
    "        y=M1[::1000,1],\n",
    "        z=M1[::1000,2], \n",
    "        marker=dict(\n",
    "            size=1,\n",
    "        color = 'rgba(0, 200,0, .8)',\n",
    "            colorscale='Viridis',\n",
    "        )\n",
    "    )\n",
    "\n",
    "sun = Scatter3d(\n",
    "        x=[0],\n",
    "        y=[0],\n",
    "        z=[0], \n",
    "        marker=dict(\n",
    "            size=6,\n",
    "            color = 'rgba(255,165,0, .8)',\n",
    "            colorscale='Viridis',\n",
    "        )\n",
    "    )\n",
    "\n",
    "data = Data([earth2,earth,e])\n",
    "\n",
    "layout = dict(\n",
    "    scene=dict(\n",
    "        xaxis=dict(\n",
    "            range=[-1.5,1.5]\n",
    "        ),\n",
    "        yaxis=dict(\n",
    "            range=[-1.5,1.5]\n",
    "        ),\n",
    "        zaxis=dict(\n",
    "            range=[-1.5,1.5]\n",
    "        ),\n",
    "     \n",
    "    ),\n",
    ")\n",
    "\n",
    "fig = go.Figure(data=data, layout=layout)\n",
    "\n",
    "print(\"Loading...\")\n",
    "py.iplot(fig, filename = 'orbit')"
   ]
  },
  {
   "cell_type": "code",
   "execution_count": 90,
   "metadata": {
    "collapsed": false
   },
   "outputs": [
    {
     "data": {
      "text/html": [
       "<script>requirejs.config({paths: { 'plotly': ['https://cdn.plot.ly/plotly-latest.min']},});if(!window.Plotly) {{require(['plotly'],function(plotly) {window.Plotly=plotly;});}}</script>"
      ],
      "text/plain": [
       "<IPython.core.display.HTML object>"
      ]
     },
     "metadata": {},
     "output_type": "display_data"
    },
    {
     "name": "stdout",
     "output_type": "stream",
     "text": [
      "Loading...\n"
     ]
    },
    {
     "data": {
      "text/html": [
       "<iframe id=\"igraph\" scrolling=\"no\" style=\"border:none;\" seamless=\"seamless\" src=\"https://plot.ly/~Shade5/4.embed\" height=\"525px\" width=\"100%\"></iframe>"
      ],
      "text/plain": [
       "<plotly.tools.PlotlyDisplay object>"
      ]
     },
     "execution_count": 90,
     "metadata": {},
     "output_type": "execute_result"
    }
   ],
   "source": [
    "from plotly.offline import download_plotlyjs, init_notebook_mode\n",
    "init_notebook_mode(connected=True)\n",
    "sat1s = Scatter3d(\n",
    "        x=A1[0,0],\n",
    "        y=A1[0,1],\n",
    "        z=A1[0,2], \n",
    "        mode = 'markers',\n",
    "        marker = dict(\n",
    "        size = 10,\n",
    "        color = 'rgba(152, 0, 0, .8)',\n",
    "        line = dict(\n",
    "            width = 2,\n",
    "            color = 'rgb(0, 0, 0)'\n",
    "            )\n",
    "        )\n",
    "    )\n",
    "\n",
    "sat1 = Scatter3d(\n",
    "        x=A1[::100,0],\n",
    "        y=A1[::100,1],\n",
    "        z=A1[::100,2], \n",
    "        marker=dict(\n",
    "            size=1,\n",
    "            colorscale='Viridis',\n",
    "        )\n",
    "    )\n",
    "\n",
    "sat2s = Scatter3d(\n",
    "        x=A2[0,0],\n",
    "        y=A2[0,1],\n",
    "        z=A2[0,2], \n",
    "        marker = dict(\n",
    "        size = 10,\n",
    "        color = 'rgba(0, 152, 0, .8)',\n",
    "        line = dict(\n",
    "            width = 2,\n",
    "            color = 'rgb(0, 0, 0)'\n",
    "            )\n",
    "        )\n",
    "    )\n",
    "\n",
    "sat2 = Scatter3d(\n",
    "        x=A2[::100,0],\n",
    "        y=A2[::100,1],\n",
    "        z=A2[::100,2], \n",
    "        marker=dict(\n",
    "            size=1,\n",
    "            colorscale='Viridis',\n",
    "        )\n",
    "    )\n",
    "\n",
    "sat3s = Scatter3d(\n",
    "        x=A3[0,0],\n",
    "        y=A3[0,1],\n",
    "        z=A3[0,2], \n",
    "        marker = dict(\n",
    "        size = 10,\n",
    "        color = 'rgba(0, 0, 152, .8)',\n",
    "        line = dict(\n",
    "            width = 2,\n",
    "            color = 'rgb(0, 0, 0)'\n",
    "            )\n",
    "        )\n",
    "    )\n",
    "\n",
    "\n",
    "\n",
    "sat3 = Scatter3d(\n",
    "        x=A3[::100,0],\n",
    "        y=A3[::100,1],\n",
    "        z=A3[::100,2], \n",
    "        marker=dict(\n",
    "            size=1,\n",
    "            colorscale='Viridis',\n",
    "        )\n",
    "    )\n",
    "\n",
    "earth = Scatter3d(\n",
    "        x=E1[::100,0],\n",
    "        y=E1[::100,1],\n",
    "        z=E1[::100,2], \n",
    "        marker=dict(\n",
    "            size=1,\n",
    "        color = 'rgba(0, 0, 200, .8)',\n",
    "            colorscale='Viridis',\n",
    "        )\n",
    "    )\n",
    "\n",
    "sun = Scatter3d(\n",
    "        x=[0],\n",
    "        y=[0],\n",
    "        z=[0], \n",
    "        marker=dict(\n",
    "            size=6,\n",
    "            color = 'rgba(255,165,0, .8)',\n",
    "            colorscale='Viridis',\n",
    "        )\n",
    "    )\n",
    "\n",
    "data = Data([sat2,sat3,sat1,sat1s,sat2s,sat3s])\n",
    "\n",
    "layout = dict(\n",
    "    scene=dict(\n",
    "        xaxis=dict(\n",
    "            range=[.9,1]\n",
    "        ),\n",
    "        yaxis=dict(\n",
    "            range=[-0.4,-0.3]\n",
    "        ),\n",
    "        zaxis=dict(\n",
    "            range=[-1,1]\n",
    "        ),\n",
    "     \n",
    "    ),\n",
    ")\n",
    "\n",
    "fig = go.Figure(data=data, layout=layout)\n",
    "\n",
    "print(\"Loading...\")\n",
    "py.iplot(fig, filename = 'orbit')\n",
    "\n",
    "\n",
    "\n",
    "\n",
    "\n"
   ]
  },
  {
   "cell_type": "code",
   "execution_count": 102,
   "metadata": {
    "collapsed": false
   },
   "outputs": [
    {
     "name": "stdout",
     "output_type": "stream",
     "text": [
      "0.0312306813767\n",
      "68\n"
     ]
    }
   ],
   "source": [
    "min =10;\n",
    "\n",
    "for i in range(1,100000):\n",
    "    vu=np.sqrt((E1[0,0]-E1[-i,0])**2+(E1[0,1]-E1[-i,1])**2+(E1[0,2]-E1[-i,2])**2);\n",
    "    if(min>vu):\n",
    "        min=vu\n",
    "    else:\n",
    "        print(min)\n",
    "        print(i)\n",
    "        break"
   ]
  },
  {
   "cell_type": "code",
   "execution_count": 91,
   "metadata": {
    "collapsed": false
   },
   "outputs": [
    {
     "name": "stdout",
     "output_type": "stream",
     "text": [
      "0.00890586431023\n",
      "0.0371963992448\n",
      "0.0397368779257\n"
     ]
    }
   ],
   "source": [
    "ditances2(A1,A2,A3)"
   ]
  },
  {
   "cell_type": "code",
   "execution_count": 92,
   "metadata": {
    "collapsed": false
   },
   "outputs": [
    {
     "name": "stderr",
     "output_type": "stream",
     "text": [
      "/home/a/workspace/eLISA/PyLisa/env/lib/python3.5/site-packages/ipykernel/__main__.py:22: VisibleDeprecationWarning:\n",
      "\n",
      "using a non-integer number instead of an integer will result in an error in the future\n",
      "\n",
      "/home/a/workspace/eLISA/PyLisa/env/lib/python3.5/site-packages/ipykernel/__main__.py:23: VisibleDeprecationWarning:\n",
      "\n",
      "using a non-integer number instead of an integer will result in an error in the future\n",
      "\n"
     ]
    },
    {
     "name": "stdout",
     "output_type": "stream",
     "text": [
      "0.00890586431023\n",
      "0.0657985323937\n",
      "0.0709307230131\n",
      "2864\n",
      "0.00890586431023\n",
      "0.0651452870196\n",
      "0.0702536086293\n",
      "2865\n",
      "0.00890586431023\n",
      "0.0644938412679\n",
      "0.0695776860167\n",
      "2866\n",
      "0.00890586431023\n",
      "0.0638442507655\n",
      "0.0689029907859\n",
      "2867\n"
     ]
    },
    {
     "ename": "KeyboardInterrupt",
     "evalue": "",
     "output_type": "error",
     "traceback": [
      "\u001b[0;31m---------------------------------------------------------------------------\u001b[0m",
      "\u001b[0;31mKeyboardInterrupt\u001b[0m                         Traceback (most recent call last)",
      "\u001b[0;32m<ipython-input-92-744a8b406bae>\u001b[0m in \u001b[0;36m<module>\u001b[0;34m()\u001b[0m\n\u001b[1;32m      6\u001b[0m \u001b[0;34m\u001b[0m\u001b[0m\n\u001b[1;32m      7\u001b[0m \u001b[0;34m\u001b[0m\u001b[0m\n\u001b[0;32m----> 8\u001b[0;31m     \u001b[0;34m[\u001b[0m\u001b[0mE3\u001b[0m\u001b[0;34m,\u001b[0m\u001b[0mEv3\u001b[0m\u001b[0;34m,\u001b[0m\u001b[0mS\u001b[0m\u001b[0;34m,\u001b[0m\u001b[0mSv\u001b[0m\u001b[0;34m,\u001b[0m\u001b[0mA3\u001b[0m\u001b[0;34m,\u001b[0m\u001b[0mAv3\u001b[0m\u001b[0;34m]\u001b[0m\u001b[0;34m=\u001b[0m \u001b[0mearsunsat\u001b[0m\u001b[0;34m(\u001b[0m\u001b[0mxe\u001b[0m\u001b[0;34m,\u001b[0m\u001b[0mve\u001b[0m\u001b[0;34m,\u001b[0m\u001b[0mxs\u001b[0m\u001b[0;34m,\u001b[0m\u001b[0mvs\u001b[0m\u001b[0;34m,\u001b[0m\u001b[0mxa\u001b[0m\u001b[0;34m,\u001b[0m\u001b[0mva\u001b[0m\u001b[0;34m)\u001b[0m\u001b[0;34m;\u001b[0m\u001b[0;34m\u001b[0m\u001b[0m\n\u001b[0m\u001b[1;32m      9\u001b[0m \u001b[0;34m\u001b[0m\u001b[0m\n\u001b[1;32m     10\u001b[0m     \u001b[0mditances2\u001b[0m\u001b[0;34m(\u001b[0m\u001b[0mA1\u001b[0m\u001b[0;34m,\u001b[0m\u001b[0mA2\u001b[0m\u001b[0;34m,\u001b[0m\u001b[0mA3\u001b[0m\u001b[0;34m)\u001b[0m\u001b[0;34m\u001b[0m\u001b[0m\n",
      "\u001b[0;32m<ipython-input-82-c3083c2e5264>\u001b[0m in \u001b[0;36mearsunsat\u001b[0;34m(xe, ve, xs, vs, xa, va)\u001b[0m\n\u001b[1;32m     28\u001b[0m     \u001b[0mk\u001b[0m \u001b[0;34m=\u001b[0m \u001b[0;36m1\u001b[0m\u001b[0;34m\u001b[0m\u001b[0m\n\u001b[1;32m     29\u001b[0m     \u001b[0;32mwhile\u001b[0m \u001b[0mr\u001b[0m\u001b[0;34m.\u001b[0m\u001b[0msuccessful\u001b[0m\u001b[0;34m(\u001b[0m\u001b[0;34m)\u001b[0m \u001b[0;32mand\u001b[0m \u001b[0mk\u001b[0m \u001b[0;34m<\u001b[0m \u001b[0mnum_steps\u001b[0m\u001b[0;34m:\u001b[0m\u001b[0;34m\u001b[0m\u001b[0m\n\u001b[0;32m---> 30\u001b[0;31m         \u001b[0mr\u001b[0m\u001b[0;34m.\u001b[0m\u001b[0mintegrate\u001b[0m\u001b[0;34m(\u001b[0m\u001b[0mr\u001b[0m\u001b[0;34m.\u001b[0m\u001b[0mt\u001b[0m \u001b[0;34m+\u001b[0m \u001b[0mdelta_t\u001b[0m\u001b[0;34m)\u001b[0m\u001b[0;34m\u001b[0m\u001b[0m\n\u001b[0m\u001b[1;32m     31\u001b[0m \u001b[0;34m\u001b[0m\u001b[0m\n\u001b[1;32m     32\u001b[0m         \u001b[0;31m# Store the results to plot later\u001b[0m\u001b[0;34m\u001b[0m\u001b[0;34m\u001b[0m\u001b[0m\n",
      "\u001b[0;32m/home/a/workspace/eLISA/PyLisa/env/lib/python3.5/site-packages/scipy/integrate/_ode.py\u001b[0m in \u001b[0;36mintegrate\u001b[0;34m(self, t, step, relax)\u001b[0m\n\u001b[1;32m    406\u001b[0m             self._y, self.t = mth(self.f, self.jac or (lambda: None),\n\u001b[1;32m    407\u001b[0m                                 \u001b[0mself\u001b[0m\u001b[0;34m.\u001b[0m\u001b[0m_y\u001b[0m\u001b[0;34m,\u001b[0m \u001b[0mself\u001b[0m\u001b[0;34m.\u001b[0m\u001b[0mt\u001b[0m\u001b[0;34m,\u001b[0m \u001b[0mt\u001b[0m\u001b[0;34m,\u001b[0m\u001b[0;34m\u001b[0m\u001b[0m\n\u001b[0;32m--> 408\u001b[0;31m                                 self.f_params, self.jac_params)\n\u001b[0m\u001b[1;32m    409\u001b[0m         \u001b[0;32mexcept\u001b[0m \u001b[0mSystemError\u001b[0m\u001b[0;34m:\u001b[0m\u001b[0;34m\u001b[0m\u001b[0m\n\u001b[1;32m    410\u001b[0m             \u001b[0;31m# f2py issue with tuple returns, see ticket 1187.\u001b[0m\u001b[0;34m\u001b[0m\u001b[0;34m\u001b[0m\u001b[0m\n",
      "\u001b[0;32m/home/a/workspace/eLISA/PyLisa/env/lib/python3.5/site-packages/scipy/integrate/_ode.py\u001b[0m in \u001b[0;36mrun\u001b[0;34m(self, f, jac, y0, t0, t1, f_params, jac_params)\u001b[0m\n\u001b[1;32m   1030\u001b[0m     \u001b[0;32mdef\u001b[0m \u001b[0mrun\u001b[0m\u001b[0;34m(\u001b[0m\u001b[0mself\u001b[0m\u001b[0;34m,\u001b[0m \u001b[0mf\u001b[0m\u001b[0;34m,\u001b[0m \u001b[0mjac\u001b[0m\u001b[0;34m,\u001b[0m \u001b[0my0\u001b[0m\u001b[0;34m,\u001b[0m \u001b[0mt0\u001b[0m\u001b[0;34m,\u001b[0m \u001b[0mt1\u001b[0m\u001b[0;34m,\u001b[0m \u001b[0mf_params\u001b[0m\u001b[0;34m,\u001b[0m \u001b[0mjac_params\u001b[0m\u001b[0;34m)\u001b[0m\u001b[0;34m:\u001b[0m\u001b[0;34m\u001b[0m\u001b[0m\n\u001b[1;32m   1031\u001b[0m         x, y, iwork, idid = self.runner(*((f, t0, y0, t1) +\n\u001b[0;32m-> 1032\u001b[0;31m                                           tuple(self.call_args) + (f_params,)))\n\u001b[0m\u001b[1;32m   1033\u001b[0m         \u001b[0;32mif\u001b[0m \u001b[0midid\u001b[0m \u001b[0;34m<\u001b[0m \u001b[0;36m0\u001b[0m\u001b[0;34m:\u001b[0m\u001b[0;34m\u001b[0m\u001b[0m\n\u001b[1;32m   1034\u001b[0m             warnings.warn(self.name + ': ' +\n",
      "\u001b[0;32m<ipython-input-46-ae5fc0740263>\u001b[0m in \u001b[0;36mf\u001b[0;34m(t, y)\u001b[0m\n\u001b[1;32m     30\u001b[0m         \u001b[0mGe\u001b[0m\u001b[0;34m*\u001b[0m\u001b[0;34m(\u001b[0m\u001b[0my\u001b[0m\u001b[0;34m[\u001b[0m\u001b[0;36m0\u001b[0m\u001b[0;34m]\u001b[0m\u001b[0;34m-\u001b[0m\u001b[0my\u001b[0m\u001b[0;34m[\u001b[0m\u001b[0;36m12\u001b[0m\u001b[0;34m]\u001b[0m\u001b[0;34m)\u001b[0m\u001b[0;34m/\u001b[0m\u001b[0mrae\u001b[0m\u001b[0;34m**\u001b[0m\u001b[0;36m2\u001b[0m \u001b[0;34m+\u001b[0m \u001b[0mGM\u001b[0m\u001b[0;34m*\u001b[0m\u001b[0;34m(\u001b[0m\u001b[0my\u001b[0m\u001b[0;34m[\u001b[0m\u001b[0;36m6\u001b[0m\u001b[0;34m]\u001b[0m\u001b[0;34m-\u001b[0m\u001b[0my\u001b[0m\u001b[0;34m[\u001b[0m\u001b[0;36m12\u001b[0m\u001b[0;34m]\u001b[0m\u001b[0;34m)\u001b[0m\u001b[0;34m/\u001b[0m\u001b[0mrsa\u001b[0m\u001b[0;34m**\u001b[0m\u001b[0;36m2\u001b[0m\u001b[0;34m,\u001b[0m\u001b[0;34m\u001b[0m\u001b[0m\n\u001b[1;32m     31\u001b[0m         \u001b[0mGe\u001b[0m\u001b[0;34m*\u001b[0m\u001b[0;34m(\u001b[0m\u001b[0my\u001b[0m\u001b[0;34m[\u001b[0m\u001b[0;36m1\u001b[0m\u001b[0;34m]\u001b[0m\u001b[0;34m-\u001b[0m\u001b[0my\u001b[0m\u001b[0;34m[\u001b[0m\u001b[0;36m13\u001b[0m\u001b[0;34m]\u001b[0m\u001b[0;34m)\u001b[0m\u001b[0;34m/\u001b[0m\u001b[0mrae\u001b[0m\u001b[0;34m**\u001b[0m\u001b[0;36m2\u001b[0m \u001b[0;34m+\u001b[0m \u001b[0mGM\u001b[0m\u001b[0;34m*\u001b[0m\u001b[0;34m(\u001b[0m\u001b[0my\u001b[0m\u001b[0;34m[\u001b[0m\u001b[0;36m7\u001b[0m\u001b[0;34m]\u001b[0m\u001b[0;34m-\u001b[0m\u001b[0my\u001b[0m\u001b[0;34m[\u001b[0m\u001b[0;36m13\u001b[0m\u001b[0;34m]\u001b[0m\u001b[0;34m)\u001b[0m\u001b[0;34m/\u001b[0m\u001b[0mrsa\u001b[0m\u001b[0;34m**\u001b[0m\u001b[0;36m2\u001b[0m\u001b[0;34m,\u001b[0m\u001b[0;34m\u001b[0m\u001b[0m\n\u001b[0;32m---> 32\u001b[0;31m         Ge*(y[2]-y[14])/rae**2 + GM*(y[8]-y[14])/rsa**2],\n\u001b[0m\u001b[1;32m     33\u001b[0m \u001b[0;34m\u001b[0m\u001b[0m\n\u001b[1;32m     34\u001b[0m     \u001b[0;32mreturn\u001b[0m \u001b[0mrk\u001b[0m\u001b[0;34m;\u001b[0m\u001b[0;34m\u001b[0m\u001b[0m\n",
      "\u001b[0;31mKeyboardInterrupt\u001b[0m: "
     ]
    }
   ],
   "source": [
    "for i in range(100):\n",
    "    pha=2864+i;\n",
    "\n",
    "    xa=[A1[pha,0]*cos(4*pi/3)-A1[pha,1]*sin(4*pi/3),A1[pha,1]*cos(4*pi/3)+A1[pha,0]*sin(4*pi/3),A1[pha,2]];\n",
    "    va=[Av1[pha,0]*cos(4*pi/3)-Av1[pha,1]*sin(4*pi/3),Av1[pha,1]*cos(4*pi/3)+Av1[pha,0]*sin(4*pi/3),Av1[pha,2]];\n",
    "\n",
    "\n",
    "    [E3,Ev3,S,Sv,A3,Av3]= earsunsat(xe,ve,xs,vs,xa,va);\n",
    "\n",
    "    ditances2(A1,A2,A3)\n",
    "    print(pha)\n"
   ]
  },
  {
   "cell_type": "code",
   "execution_count": 46,
   "metadata": {
    "collapsed": false
   },
   "outputs": [
    {
     "data": {
      "text/plain": [
       "numpy.float64"
      ]
     },
     "execution_count": 46,
     "metadata": {},
     "output_type": "execute_result"
    }
   ],
   "source": [
    "type(M1[1,1])"
   ]
  },
  {
   "cell_type": "code",
   "execution_count": null,
   "metadata": {
    "collapsed": true
   },
   "outputs": [],
   "source": []
  }
 ],
 "metadata": {
  "kernelspec": {
   "display_name": "Python 3",
   "language": "python",
   "name": "python3"
  },
  "language_info": {
   "codemirror_mode": {
    "name": "ipython",
    "version": 3
   },
   "file_extension": ".py",
   "mimetype": "text/x-python",
   "name": "python",
   "nbconvert_exporter": "python",
   "pygments_lexer": "ipython3",
   "version": "3.5.1+"
  }
 },
 "nbformat": 4,
 "nbformat_minor": 1
}
