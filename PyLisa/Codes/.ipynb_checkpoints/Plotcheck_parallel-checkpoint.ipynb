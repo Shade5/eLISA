{
 "cells": [
  {
   "cell_type": "code",
   "execution_count": 1,
   "metadata": {
    "collapsed": true
   },
   "outputs": [],
   "source": [
    "\n",
    "from math import sqrt,cos,sin,pi\n",
    "import numpy as np\n",
    "from scipy import integrate\n",
    "import scipy.optimize\n",
    "import multiprocessing\n",
    "\n",
    "L=0.0067;"
   ]
  },
  {
   "cell_type": "code",
   "execution_count": 2,
   "metadata": {
    "collapsed": true
   },
   "outputs": [],
   "source": [
    "\n",
    "\n",
    "def f(t,y):\n",
    "    \n",
    "    # AU=1.496*10**11;\n",
    "    # M0=1.989*10**30;\n",
    "    # year=365*24*60*60;\n",
    "\n",
    "    G=39.4316;\n",
    "    \n",
    "    GM=G;\n",
    "    Ge=G*3.0025*10**(-6);\n",
    "    Ga=0*G*3.6953*10**(-8);\n",
    "    \n",
    "    rse=sqrt((y[ 0]-y[ 6])**2+(y[ 1]-y[ 7])**2+(y[ 2]-y[ 8])**2);\n",
    "    rsa=sqrt((y[12]-y[ 6])**2+(y[13]-y[ 7])**2+(y[14]-y[ 8])**2);\n",
    "    rae=sqrt((y[ 0]-y[12])**2+(y[ 1]-y[13])**2+(y[ 2]-y[14])**2);\n",
    "    \n",
    "    n = len(y)      # 1: implies its a single ODE\n",
    "    rk = np.zeros((n,1))\n",
    "    \n",
    "    rk=[y[3],\n",
    "        y[4],\n",
    "        y[5],\n",
    "        GM*(y[6]-y[0])/rse**2 + Ga*(y[12]-y[0])/rae**2,\n",
    "        GM*(y[7]-y[1])/rse**2 + Ga*(y[13]-y[1])/rae**2,\n",
    "        GM*(y[8]-y[2])/rse**2 + Ga*(y[14]-y[2])/rae**2,\n",
    "        y[9],\n",
    "        y[10],\n",
    "        y[11],\n",
    "        Ge*(y[0]-y[6])/rse**2 + Ga*(y[12]-y[6])/rsa**2,\n",
    "        Ge*(y[1]-y[7])/rse**2 + Ga*(y[13]-y[7])/rsa**2,\n",
    "        Ge*(y[2]-y[8])/rse**2 + Ga*(y[14]-y[8])/rsa**2,\n",
    "        y[15],\n",
    "        y[16],\n",
    "        y[17],\n",
    "        Ge*(y[0]-y[12])/rae**2 + GM*(y[6]-y[12])/rsa**2,\n",
    "        Ge*(y[1]-y[13])/rae**2 + GM*(y[7]-y[13])/rsa**2,\n",
    "        Ge*(y[2]-y[14])/rae**2 + GM*(y[8]-y[14])/rsa**2],\n",
    "\n",
    "    return rk;\n"
   ]
  },
  {
   "cell_type": "code",
   "execution_count": 3,
   "metadata": {
    "collapsed": true
   },
   "outputs": [],
   "source": [
    "def earsunsat(xe,ve,xs,vs,xa,va):\n",
    "\n",
    "    t_start = 0.0\n",
    "    t_final = 1.0\n",
    "    delta_t = 1/(365)\n",
    "    # Number of time steps: 1 extra for initial condition\n",
    "    num_steps = np.floor((t_final - t_start)/delta_t) + 1\n",
    "  \n",
    "    \n",
    "    r = integrate.ode(f).set_integrator('dopri5', method='bdf')\n",
    "    \n",
    "    \n",
    "    initial=[xe[0],xe[1],xe[2],\n",
    "             ve[0],ve[1],ve[2],\n",
    "             xs[0],xs[1],xs[2],\n",
    "             vs[0],vs[1],vs[2],\n",
    "             xa[0],xa[1],xa[2],\n",
    "             va[0],va[1],va[2]];\n",
    "    \n",
    "    r.set_initial_value(initial, t_start)\n",
    "    \n",
    "    t = np.zeros((num_steps, 1))\n",
    "    x = np.zeros((num_steps, 18))\n",
    "    t[0] = t_start\n",
    "    x[0] = initial\n",
    "    \n",
    "    \n",
    "    k = 1\n",
    "    while r.successful() and k < num_steps:\n",
    "        r.integrate(r.t + delta_t)\n",
    " \n",
    "        # Store the results to plot later\n",
    "        t[k] = r.t\n",
    "        x[k] = r.y\n",
    "        k += 1\n",
    " \n",
    "        \n",
    "    E=x[:,0:3];\n",
    "    Ev=x[:,3:6];\n",
    "    S=x[:,6:9];\n",
    "    Sv=x[:,9:12];\n",
    "    A=x[:,12:15];\n",
    "    Av=x[:,15:18];\n",
    "        \n",
    "    return E,Ev,S,Sv,A,Av\n"
   ]
  },
  {
   "cell_type": "code",
   "execution_count": 4,
   "metadata": {
    "collapsed": true
   },
   "outputs": [],
   "source": [
    "\n",
    "def ditances(E1,E2,E3):\n",
    "\n",
    "          \n",
    "          E12=np.sqrt((E1[:,0]-E2[:,0])**2+(E1[:,1]-E2[:,1])**2+(E1[:,2]-E2[:,2])**2);\n",
    "          E13=np.sqrt((E1[:,0]-E3[:,0])**2+(E1[:,1]-E3[:,1])**2+(E1[:,2]-E3[:,2])**2);\n",
    "          E32=np.sqrt((E3[:,0]-E2[:,0])**2+(E3[:,1]-E2[:,1])**2+(E3[:,2]-E2[:,2])**2);\n",
    "        \n",
    "          #plt.plot(E12,'r');\n",
    "          #plt.plot(E13,'b');\n",
    "          #plt.plot(E32,'g');\n",
    "            \n",
    "          return np.sum(np.square(E12-L))+np.sum(np.square(E13-L))+np.sum(np.square(E32-L))\n",
    "            \n",
    "    "
   ]
  },
  {
   "cell_type": "code",
   "execution_count": 5,
   "metadata": {
    "collapsed": true
   },
   "outputs": [],
   "source": [
    "def run(pha1,pha2):\n",
    "    L=0.0067;\n",
    "\n",
    "    xe=[1.0167,0,0];\n",
    "    ve=[0,6.1745,0];\n",
    "    xs=[0,0,0];\n",
    "    vs=[0,0,0];\n",
    "    xa=[0.9611,-0.3295,L/2];\n",
    "    va=[2.0364,5.8381,0];\n",
    "\n",
    "    [E1,Ev1,S,Sv,A1,Av1]= earsunsat(xe,ve,xs,vs,xa,va);\n",
    "\n",
    "\n",
    "    \n",
    "\n",
    "    # pha1=2451 ;\n",
    "\n",
    "\n",
    "    xa=[A1[pha1,0]*cos(2*pi/3)-A1[pha1,1]*sin(2*pi/3),A1[pha1,1]*cos(2*pi/3)+A1[pha1,0]*sin(2*pi/3),A1[pha1,2]];\n",
    "    va=[Av1[pha1,0]*cos(2*pi/3)-Av1[pha1,1]*sin(2*pi/3),Av1[pha1,1]*cos(2*pi/3)+Av1[pha1,0]*sin(2*pi/3),Av1[pha1,2]];\n",
    "\n",
    "\n",
    "    [E2,Ev2,S,Sv,A2,Av2]= earsunsat(xe,ve,xs,vs,xa,va);\n",
    "\n",
    "\n",
    "\n",
    "\n",
    "    # pha2=1221;\n",
    "\n",
    "    xa=[A1[pha2,0]*cos(4*pi/3)-A1[pha2,1]*sin(4*pi/3),A1[pha2,1]*cos(4*pi/3)+A1[pha2,0]*sin(4*pi/3),A1[pha2,2]];\n",
    "    va=[Av1[pha2,0]*cos(4*pi/3)-Av1[pha2,1]*sin(4*pi/3),Av1[pha2,1]*cos(4*pi/3)+Av1[pha2,0]*sin(4*pi/3),Av1[pha2,2]];\n",
    "\n",
    "\n",
    "    [E3,Ev3,S,Sv,A3,Av3]= earsunsat(xe,ve,xs,vs,xa,va);\n",
    "    \n",
    "    # encheck3bd(E1,Ev1,S,Sv,A1,Av1)\n",
    "    min=ditances(A1,A2,A3)\n",
    "    #print(pha1,pha2,min)\n",
    "    \n",
    "    return min"
   ]
  },
  {
   "cell_type": "code",
   "execution_count": 6,
   "metadata": {
    "collapsed": true
   },
   "outputs": [],
   "source": [
    "def foo(g):\n",
    "    x1=\"./Data/plo\"\n",
    "    outfile=x1+str(g)\n",
    "    print(outfile)\n",
    "    A=np.zeros((365*2,10))\n",
    "    for i in range(365*2):\n",
    "        for j in range(10*g,10*g+10):\n",
    "            #print(i,j)\n",
    "            A[i,j-10*g]=run(i,j)\n",
    "            #print(A[i,j-10*g])\n",
    "    np.save(outfile,A)\n",
    "#run(23388,11694)\n",
    "#plt.plot(L*np.ones(100000))\n",
    "#run(2451,1221)\n",
    "#plt.show()\n"
   ]
  },
  {
   "cell_type": "code",
   "execution_count": 7,
   "metadata": {
    "collapsed": false
   },
   "outputs": [
    {
     "name": "stdout",
     "output_type": "stream",
     "text": [
      "4\n",
      "./Data/plo45\n"
     ]
    },
    {
     "name": "stderr",
     "output_type": "stream",
     "text": [
      "/home/elsy/workspace/PyLisa/env/lib/python3.5/site-packages/ipykernel/__main__.py:22: VisibleDeprecationWarning: using a non-integer number instead of an integer will result in an error in the future\n",
      "/home/elsy/workspace/PyLisa/env/lib/python3.5/site-packages/ipykernel/__main__.py:23: VisibleDeprecationWarning: using a non-integer number instead of an integer will result in an error in the future\n"
     ]
    },
    {
     "name": "stdout",
     "output_type": "stream",
     "text": [
      "./Data/plo49\n",
      "./Data/plo47\n"
     ]
    },
    {
     "name": "stderr",
     "output_type": "stream",
     "text": [
      "/home/elsy/workspace/PyLisa/env/lib/python3.5/site-packages/ipykernel/__main__.py:22: VisibleDeprecationWarning: using a non-integer number instead of an integer will result in an error in the future\n",
      "/home/elsy/workspace/PyLisa/env/lib/python3.5/site-packages/ipykernel/__main__.py:22: VisibleDeprecationWarning: using a non-integer number instead of an integer will result in an error in the future\n",
      "/home/elsy/workspace/PyLisa/env/lib/python3.5/site-packages/ipykernel/__main__.py:23: VisibleDeprecationWarning: using a non-integer number instead of an integer will result in an error in the future\n",
      "/home/elsy/workspace/PyLisa/env/lib/python3.5/site-packages/ipykernel/__main__.py:23: VisibleDeprecationWarning: using a non-integer number instead of an integer will result in an error in the future\n",
      "Process ForkPoolWorker-3:\n",
      "Process ForkPoolWorker-1:\n",
      "Traceback (most recent call last):\n",
      "  File \"/usr/lib/python3.5/multiprocessing/process.py\", line 249, in _bootstrap\n",
      "    self.run()\n",
      "Traceback (most recent call last):\n",
      "  File \"/usr/lib/python3.5/multiprocessing/process.py\", line 93, in run\n",
      "    self._target(*self._args, **self._kwargs)\n",
      "Process ForkPoolWorker-2:\n",
      "  File \"/usr/lib/python3.5/multiprocessing/pool.py\", line 119, in worker\n",
      "    result = (True, func(*args, **kwds))\n",
      "  File \"/usr/lib/python3.5/multiprocessing/process.py\", line 249, in _bootstrap\n",
      "    self.run()\n",
      "Traceback (most recent call last):\n",
      "  File \"/usr/lib/python3.5/multiprocessing/process.py\", line 93, in run\n",
      "    self._target(*self._args, **self._kwargs)\n",
      "  File \"/usr/lib/python3.5/multiprocessing/pool.py\", line 119, in worker\n",
      "    result = (True, func(*args, **kwds))\n",
      "  File \"/usr/lib/python3.5/multiprocessing/pool.py\", line 44, in mapstar\n",
      "    return list(map(*args))\n",
      "  File \"/usr/lib/python3.5/multiprocessing/pool.py\", line 44, in mapstar\n",
      "    return list(map(*args))\n",
      "  File \"/usr/lib/python3.5/multiprocessing/process.py\", line 249, in _bootstrap\n",
      "    self.run()\n",
      "  File \"/usr/lib/python3.5/multiprocessing/process.py\", line 93, in run\n",
      "    self._target(*self._args, **self._kwargs)\n",
      "  File \"<ipython-input-6-e8a170188bc1>\", line 9, in foo\n",
      "    A[i,j-10*g]=run(i,j)\n",
      "  File \"/usr/lib/python3.5/multiprocessing/pool.py\", line 119, in worker\n",
      "    result = (True, func(*args, **kwds))\n",
      "  File \"/usr/lib/python3.5/multiprocessing/pool.py\", line 44, in mapstar\n",
      "    return list(map(*args))\n",
      "  File \"<ipython-input-6-e8a170188bc1>\", line 9, in foo\n",
      "    A[i,j-10*g]=run(i,j)\n",
      "  File \"<ipython-input-5-7170f3df028f>\", line 11, in run\n",
      "    [E1,Ev1,S,Sv,A1,Av1]= earsunsat(xe,ve,xs,vs,xa,va);\n",
      "  File \"<ipython-input-5-7170f3df028f>\", line 11, in run\n",
      "    [E1,Ev1,S,Sv,A1,Av1]= earsunsat(xe,ve,xs,vs,xa,va);\n",
      "  File \"<ipython-input-3-66b786006b2b>\", line 30, in earsunsat\n",
      "    r.integrate(r.t + delta_t)\n",
      "  File \"<ipython-input-6-e8a170188bc1>\", line 9, in foo\n",
      "    A[i,j-10*g]=run(i,j)\n",
      "  File \"<ipython-input-3-66b786006b2b>\", line 30, in earsunsat\n",
      "    r.integrate(r.t + delta_t)\n",
      "  File \"<ipython-input-5-7170f3df028f>\", line 23, in run\n",
      "    [E2,Ev2,S,Sv,A2,Av2]= earsunsat(xe,ve,xs,vs,xa,va);\n",
      "  File \"/home/elsy/workspace/PyLisa/env/lib/python3.5/site-packages/scipy/integrate/_ode.py\", line 408, in integrate\n",
      "    self.f_params, self.jac_params)\n",
      "  File \"/home/elsy/workspace/PyLisa/env/lib/python3.5/site-packages/scipy/integrate/_ode.py\", line 1032, in run\n",
      "    tuple(self.call_args) + (f_params,)))\n",
      "  File \"/home/elsy/workspace/PyLisa/env/lib/python3.5/site-packages/scipy/integrate/_ode.py\", line 408, in integrate\n",
      "    self.f_params, self.jac_params)\n",
      "  File \"<ipython-input-2-b22ddddaf190>\", line 39, in f\n",
      "    Ge*(y[2]-y[14])/rae**2 + GM*(y[8]-y[14])/rsa**2],\n",
      "  File \"<ipython-input-3-66b786006b2b>\", line 30, in earsunsat\n",
      "    r.integrate(r.t + delta_t)\n",
      "KeyboardInterrupt\n",
      "  File \"/home/elsy/workspace/PyLisa/env/lib/python3.5/site-packages/scipy/integrate/_ode.py\", line 1032, in run\n",
      "    tuple(self.call_args) + (f_params,)))\n",
      "  File \"/home/elsy/workspace/PyLisa/env/lib/python3.5/site-packages/scipy/integrate/_ode.py\", line 408, in integrate\n",
      "    self.f_params, self.jac_params)\n",
      "  File \"<ipython-input-2-b22ddddaf190>\", line 38, in f\n",
      "    Ge*(y[1]-y[13])/rae**2 + GM*(y[7]-y[13])/rsa**2,\n",
      "  File \"/home/elsy/workspace/PyLisa/env/lib/python3.5/site-packages/scipy/integrate/_ode.py\", line 1032, in run\n",
      "    tuple(self.call_args) + (f_params,)))\n",
      "  File \"<ipython-input-2-b22ddddaf190>\", line 33, in f\n",
      "    Ge*(y[2]-y[8])/rse**2 + Ga*(y[14]-y[8])/rsa**2,\n",
      "KeyboardInterrupt\n",
      "KeyboardInterrupt\n"
     ]
    },
    {
     "name": "stdout",
     "output_type": "stream",
     "text": [
      "./Data/plo53\n"
     ]
    },
    {
     "name": "stderr",
     "output_type": "stream",
     "text": [
      "/home/elsy/workspace/PyLisa/env/lib/python3.5/site-packages/ipykernel/__main__.py:22: VisibleDeprecationWarning: using a non-integer number instead of an integer will result in an error in the future\n",
      "/home/elsy/workspace/PyLisa/env/lib/python3.5/site-packages/ipykernel/__main__.py:23: VisibleDeprecationWarning: using a non-integer number instead of an integer will result in an error in the future\n"
     ]
    },
    {
     "name": "stdout",
     "output_type": "stream",
     "text": [
      "./Data/plo51\n"
     ]
    },
    {
     "name": "stderr",
     "output_type": "stream",
     "text": [
      "/home/elsy/workspace/PyLisa/env/lib/python3.5/site-packages/ipykernel/__main__.py:22: VisibleDeprecationWarning: using a non-integer number instead of an integer will result in an error in the future\n",
      "/home/elsy/workspace/PyLisa/env/lib/python3.5/site-packages/ipykernel/__main__.py:23: VisibleDeprecationWarning: using a non-integer number instead of an integer will result in an error in the future\n"
     ]
    },
    {
     "name": "stdout",
     "output_type": "stream",
     "text": [
      "./Data/plo55\n"
     ]
    },
    {
     "name": "stderr",
     "output_type": "stream",
     "text": [
      "/home/elsy/workspace/PyLisa/env/lib/python3.5/site-packages/ipykernel/__main__.py:22: VisibleDeprecationWarning: using a non-integer number instead of an integer will result in an error in the future\n",
      "/home/elsy/workspace/PyLisa/env/lib/python3.5/site-packages/ipykernel/__main__.py:23: VisibleDeprecationWarning: using a non-integer number instead of an integer will result in an error in the future\n"
     ]
    },
    {
     "ename": "KeyboardInterrupt",
     "evalue": "",
     "output_type": "error",
     "traceback": [
      "\u001b[0;31m---------------------------------------------------------------------------\u001b[0m",
      "\u001b[0;31mKeyboardInterrupt\u001b[0m                         Traceback (most recent call last)",
      "\u001b[0;32m<ipython-input-7-f7e20b73e714>\u001b[0m in \u001b[0;36m<module>\u001b[0;34m()\u001b[0m\n\u001b[1;32m      7\u001b[0m     \u001b[0mprint\u001b[0m\u001b[0;34m(\u001b[0m\u001b[0mnum\u001b[0m\u001b[0;34m)\u001b[0m\u001b[0;34m\u001b[0m\u001b[0m\n\u001b[1;32m      8\u001b[0m     \u001b[0mp\u001b[0m \u001b[0;34m=\u001b[0m \u001b[0mmultiprocessing\u001b[0m\u001b[0;34m.\u001b[0m\u001b[0mPool\u001b[0m\u001b[0;34m(\u001b[0m\u001b[0mnum\u001b[0m\u001b[0;34m-\u001b[0m\u001b[0;36m1\u001b[0m\u001b[0;34m)\u001b[0m\u001b[0;34m\u001b[0m\u001b[0m\n\u001b[0;32m----> 9\u001b[0;31m     \u001b[0mp\u001b[0m\u001b[0;34m.\u001b[0m\u001b[0mmap\u001b[0m\u001b[0;34m(\u001b[0m\u001b[0mfoo\u001b[0m\u001b[0;34m,\u001b[0m\u001b[0mrange\u001b[0m\u001b[0;34m(\u001b[0m\u001b[0;36m45\u001b[0m\u001b[0;34m,\u001b[0m\u001b[0;36m60\u001b[0m\u001b[0;34m)\u001b[0m\u001b[0;34m)\u001b[0m\u001b[0;34m\u001b[0m\u001b[0m\n\u001b[0m\u001b[1;32m     10\u001b[0m \u001b[0;34m\u001b[0m\u001b[0m\n\u001b[1;32m     11\u001b[0m \u001b[0;34m\u001b[0m\u001b[0m\n",
      "\u001b[0;32m/usr/lib/python3.5/multiprocessing/pool.py\u001b[0m in \u001b[0;36mmap\u001b[0;34m(self, func, iterable, chunksize)\u001b[0m\n\u001b[1;32m    258\u001b[0m         \u001b[0;32min\u001b[0m \u001b[0ma\u001b[0m \u001b[0mlist\u001b[0m \u001b[0mthat\u001b[0m \u001b[0;32mis\u001b[0m \u001b[0mreturned\u001b[0m\u001b[0;34m.\u001b[0m\u001b[0;34m\u001b[0m\u001b[0m\n\u001b[1;32m    259\u001b[0m         '''\n\u001b[0;32m--> 260\u001b[0;31m         \u001b[0;32mreturn\u001b[0m \u001b[0mself\u001b[0m\u001b[0;34m.\u001b[0m\u001b[0m_map_async\u001b[0m\u001b[0;34m(\u001b[0m\u001b[0mfunc\u001b[0m\u001b[0;34m,\u001b[0m \u001b[0miterable\u001b[0m\u001b[0;34m,\u001b[0m \u001b[0mmapstar\u001b[0m\u001b[0;34m,\u001b[0m \u001b[0mchunksize\u001b[0m\u001b[0;34m)\u001b[0m\u001b[0;34m.\u001b[0m\u001b[0mget\u001b[0m\u001b[0;34m(\u001b[0m\u001b[0;34m)\u001b[0m\u001b[0;34m\u001b[0m\u001b[0m\n\u001b[0m\u001b[1;32m    261\u001b[0m \u001b[0;34m\u001b[0m\u001b[0m\n\u001b[1;32m    262\u001b[0m     \u001b[0;32mdef\u001b[0m \u001b[0mstarmap\u001b[0m\u001b[0;34m(\u001b[0m\u001b[0mself\u001b[0m\u001b[0;34m,\u001b[0m \u001b[0mfunc\u001b[0m\u001b[0;34m,\u001b[0m \u001b[0miterable\u001b[0m\u001b[0;34m,\u001b[0m \u001b[0mchunksize\u001b[0m\u001b[0;34m=\u001b[0m\u001b[0;32mNone\u001b[0m\u001b[0;34m)\u001b[0m\u001b[0;34m:\u001b[0m\u001b[0;34m\u001b[0m\u001b[0m\n",
      "\u001b[0;32m/usr/lib/python3.5/multiprocessing/pool.py\u001b[0m in \u001b[0;36mget\u001b[0;34m(self, timeout)\u001b[0m\n\u001b[1;32m    600\u001b[0m \u001b[0;34m\u001b[0m\u001b[0m\n\u001b[1;32m    601\u001b[0m     \u001b[0;32mdef\u001b[0m \u001b[0mget\u001b[0m\u001b[0;34m(\u001b[0m\u001b[0mself\u001b[0m\u001b[0;34m,\u001b[0m \u001b[0mtimeout\u001b[0m\u001b[0;34m=\u001b[0m\u001b[0;32mNone\u001b[0m\u001b[0;34m)\u001b[0m\u001b[0;34m:\u001b[0m\u001b[0;34m\u001b[0m\u001b[0m\n\u001b[0;32m--> 602\u001b[0;31m         \u001b[0mself\u001b[0m\u001b[0;34m.\u001b[0m\u001b[0mwait\u001b[0m\u001b[0;34m(\u001b[0m\u001b[0mtimeout\u001b[0m\u001b[0;34m)\u001b[0m\u001b[0;34m\u001b[0m\u001b[0m\n\u001b[0m\u001b[1;32m    603\u001b[0m         \u001b[0;32mif\u001b[0m \u001b[0;32mnot\u001b[0m \u001b[0mself\u001b[0m\u001b[0;34m.\u001b[0m\u001b[0mready\u001b[0m\u001b[0;34m(\u001b[0m\u001b[0;34m)\u001b[0m\u001b[0;34m:\u001b[0m\u001b[0;34m\u001b[0m\u001b[0m\n\u001b[1;32m    604\u001b[0m             \u001b[0;32mraise\u001b[0m \u001b[0mTimeoutError\u001b[0m\u001b[0;34m\u001b[0m\u001b[0m\n",
      "\u001b[0;32m/usr/lib/python3.5/multiprocessing/pool.py\u001b[0m in \u001b[0;36mwait\u001b[0;34m(self, timeout)\u001b[0m\n\u001b[1;32m    597\u001b[0m \u001b[0;34m\u001b[0m\u001b[0m\n\u001b[1;32m    598\u001b[0m     \u001b[0;32mdef\u001b[0m \u001b[0mwait\u001b[0m\u001b[0;34m(\u001b[0m\u001b[0mself\u001b[0m\u001b[0;34m,\u001b[0m \u001b[0mtimeout\u001b[0m\u001b[0;34m=\u001b[0m\u001b[0;32mNone\u001b[0m\u001b[0;34m)\u001b[0m\u001b[0;34m:\u001b[0m\u001b[0;34m\u001b[0m\u001b[0m\n\u001b[0;32m--> 599\u001b[0;31m         \u001b[0mself\u001b[0m\u001b[0;34m.\u001b[0m\u001b[0m_event\u001b[0m\u001b[0;34m.\u001b[0m\u001b[0mwait\u001b[0m\u001b[0;34m(\u001b[0m\u001b[0mtimeout\u001b[0m\u001b[0;34m)\u001b[0m\u001b[0;34m\u001b[0m\u001b[0m\n\u001b[0m\u001b[1;32m    600\u001b[0m \u001b[0;34m\u001b[0m\u001b[0m\n\u001b[1;32m    601\u001b[0m     \u001b[0;32mdef\u001b[0m \u001b[0mget\u001b[0m\u001b[0;34m(\u001b[0m\u001b[0mself\u001b[0m\u001b[0;34m,\u001b[0m \u001b[0mtimeout\u001b[0m\u001b[0;34m=\u001b[0m\u001b[0;32mNone\u001b[0m\u001b[0;34m)\u001b[0m\u001b[0;34m:\u001b[0m\u001b[0;34m\u001b[0m\u001b[0m\n",
      "\u001b[0;32m/usr/lib/python3.5/threading.py\u001b[0m in \u001b[0;36mwait\u001b[0;34m(self, timeout)\u001b[0m\n\u001b[1;32m    547\u001b[0m             \u001b[0msignaled\u001b[0m \u001b[0;34m=\u001b[0m \u001b[0mself\u001b[0m\u001b[0;34m.\u001b[0m\u001b[0m_flag\u001b[0m\u001b[0;34m\u001b[0m\u001b[0m\n\u001b[1;32m    548\u001b[0m             \u001b[0;32mif\u001b[0m \u001b[0;32mnot\u001b[0m \u001b[0msignaled\u001b[0m\u001b[0;34m:\u001b[0m\u001b[0;34m\u001b[0m\u001b[0m\n\u001b[0;32m--> 549\u001b[0;31m                 \u001b[0msignaled\u001b[0m \u001b[0;34m=\u001b[0m \u001b[0mself\u001b[0m\u001b[0;34m.\u001b[0m\u001b[0m_cond\u001b[0m\u001b[0;34m.\u001b[0m\u001b[0mwait\u001b[0m\u001b[0;34m(\u001b[0m\u001b[0mtimeout\u001b[0m\u001b[0;34m)\u001b[0m\u001b[0;34m\u001b[0m\u001b[0m\n\u001b[0m\u001b[1;32m    550\u001b[0m             \u001b[0;32mreturn\u001b[0m \u001b[0msignaled\u001b[0m\u001b[0;34m\u001b[0m\u001b[0m\n\u001b[1;32m    551\u001b[0m \u001b[0;34m\u001b[0m\u001b[0m\n",
      "\u001b[0;32m/usr/lib/python3.5/threading.py\u001b[0m in \u001b[0;36mwait\u001b[0;34m(self, timeout)\u001b[0m\n\u001b[1;32m    291\u001b[0m         \u001b[0;32mtry\u001b[0m\u001b[0;34m:\u001b[0m    \u001b[0;31m# restore state no matter what (e.g., KeyboardInterrupt)\u001b[0m\u001b[0;34m\u001b[0m\u001b[0m\n\u001b[1;32m    292\u001b[0m             \u001b[0;32mif\u001b[0m \u001b[0mtimeout\u001b[0m \u001b[0;32mis\u001b[0m \u001b[0;32mNone\u001b[0m\u001b[0;34m:\u001b[0m\u001b[0;34m\u001b[0m\u001b[0m\n\u001b[0;32m--> 293\u001b[0;31m                 \u001b[0mwaiter\u001b[0m\u001b[0;34m.\u001b[0m\u001b[0macquire\u001b[0m\u001b[0;34m(\u001b[0m\u001b[0;34m)\u001b[0m\u001b[0;34m\u001b[0m\u001b[0m\n\u001b[0m\u001b[1;32m    294\u001b[0m                 \u001b[0mgotit\u001b[0m \u001b[0;34m=\u001b[0m \u001b[0;32mTrue\u001b[0m\u001b[0;34m\u001b[0m\u001b[0m\n\u001b[1;32m    295\u001b[0m             \u001b[0;32melse\u001b[0m\u001b[0;34m:\u001b[0m\u001b[0;34m\u001b[0m\u001b[0m\n",
      "\u001b[0;31mKeyboardInterrupt\u001b[0m: "
     ]
    }
   ],
   "source": [
    "\n",
    "\n",
    "# In[38]:\n",
    "\n",
    "if __name__ == '__main__':\n",
    "    num=multiprocessing.cpu_count()\n",
    "    print(num)\n",
    "    p = multiprocessing.Pool(num-1)\n",
    "    p.map(foo,range(45,60))\n",
    "\n",
    "\n",
    "\n",
    "\n",
    "\n"
   ]
  },
  {
   "cell_type": "code",
   "execution_count": null,
   "metadata": {
    "collapsed": true
   },
   "outputs": [],
   "source": []
  }
 ],
 "metadata": {
  "kernelspec": {
   "display_name": "Python 3",
   "language": "python",
   "name": "python3"
  },
  "language_info": {
   "codemirror_mode": {
    "name": "ipython",
    "version": 3
   },
   "file_extension": ".py",
   "mimetype": "text/x-python",
   "name": "python",
   "nbconvert_exporter": "python",
   "pygments_lexer": "ipython3",
   "version": "3.5.2"
  }
 },
 "nbformat": 4,
 "nbformat_minor": 1
}
