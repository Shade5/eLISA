{
 "cells": [
  {
   "cell_type": "code",
   "execution_count": 21,
   "metadata": {
    "collapsed": true
   },
   "outputs": [],
   "source": [
    "from math import sqrt,cos,sin,pi\n",
    "from mpl_toolkits.mplot3d import Axes3D\n",
    "import numpy as np\n",
    "import matplotlib\n",
    "import matplotlib.pyplot as plt\n",
    "from scipy import integrate\n",
    "import scipy.optimize\n",
    "\n",
    "L=0.0067;"
   ]
  },
  {
   "cell_type": "code",
   "execution_count": 22,
   "metadata": {
    "collapsed": false
   },
   "outputs": [],
   "source": [
    "def f(t,y):\n",
    "    \n",
    "    # AU=1.496*10**11;\n",
    "    # M0=1.989*10**30;\n",
    "    # year=365*24*60*60;\n",
    "\n",
    "    G=39.4316;\n",
    "    \n",
    "    GM=G;\n",
    "    Ge=G*3.0025*10**(-6);\n",
    "    Ga=0*G*3.6953*10**(-8);\n",
    "    \n",
    "    rse=sqrt((y[ 0]-y[ 6])**2+(y[ 1]-y[ 7])**2+(y[ 2]-y[ 8])**2);\n",
    "    rsa=sqrt((y[12]-y[ 6])**2+(y[13]-y[ 7])**2+(y[14]-y[ 8])**2);\n",
    "    rae=sqrt((y[ 0]-y[12])**2+(y[ 1]-y[13])**2+(y[ 2]-y[14])**2);\n",
    "    \n",
    "    n = len(y)      # 1: implies its a single ODE\n",
    "    rk = np.zeros((n,1))\n",
    "    \n",
    "    rk=[y[3],\n",
    "        y[4],\n",
    "        y[5],\n",
    "        GM*(y[6]-y[0])/rse**2 + Ga*(y[12]-y[0])/rae**2,\n",
    "        GM*(y[7]-y[1])/rse**2 + Ga*(y[13]-y[1])/rae**2,\n",
    "        GM*(y[8]-y[2])/rse**2 + Ga*(y[14]-y[2])/rae**2,\n",
    "        y[9],\n",
    "        y[10],\n",
    "        y[11],\n",
    "        Ge*(y[0]-y[6])/rse**2 + Ga*(y[12]-y[6])/rsa**2,\n",
    "        Ge*(y[1]-y[7])/rse**2 + Ga*(y[13]-y[7])/rsa**2,\n",
    "        Ge*(y[2]-y[8])/rse**2 + Ga*(y[14]-y[8])/rsa**2,\n",
    "        y[15],\n",
    "        y[16],\n",
    "        y[17],\n",
    "        Ge*(y[0]-y[12])/rae**2 + GM*(y[6]-y[12])/rsa**2,\n",
    "        Ge*(y[1]-y[13])/rae**2 + GM*(y[7]-y[13])/rsa**2,\n",
    "        Ge*(y[2]-y[14])/rae**2 + GM*(y[8]-y[14])/rsa**2],\n",
    "\n",
    "    return rk;"
   ]
  },
  {
   "cell_type": "code",
   "execution_count": 23,
   "metadata": {
    "collapsed": false
   },
   "outputs": [],
   "source": [
    "\n",
    "def earsunsat(xe,ve,xs,vs,xa,va):\n",
    "\n",
    "    t_start = 0.0\n",
    "    t_final = 5.0\n",
    "    delta_t = 1/(365*24)\n",
    "    # Number of time steps: 1 extra for initial condition\n",
    "    num_steps = np.floor((t_final - t_start)/delta_t) + 1\n",
    "  \n",
    "    \n",
    "    r = integrate.ode(f).set_integrator('dopri5', method='bdf')\n",
    "    \n",
    "    \n",
    "    initial=[xe[0],xe[1],xe[2],\n",
    "             ve[0],ve[1],ve[2],\n",
    "             xs[0],xs[1],xs[2],\n",
    "             vs[0],vs[1],vs[2],\n",
    "             xa[0],xa[1],xa[2],\n",
    "             va[0],va[1],va[2]];\n",
    "    \n",
    "    r.set_initial_value(initial, t_start)\n",
    "    \n",
    "    t = np.zeros((num_steps, 1))\n",
    "    x = np.zeros((num_steps, 18))\n",
    "    t[0] = t_start\n",
    "    x[0] = initial\n",
    "    \n",
    "    \n",
    "    k = 1\n",
    "    while r.successful() and k < num_steps:\n",
    "        r.integrate(r.t + delta_t)\n",
    " \n",
    "        # Store the results to plot later\n",
    "        t[k] = r.t\n",
    "        x[k] = r.y\n",
    "        k += 1\n",
    " \n",
    "        \n",
    "    E=x[:,0:3];\n",
    "    Ev=x[:,3:6];\n",
    "    S=x[:,6:9];\n",
    "    Sv=x[:,9:12];\n",
    "    A=x[:,12:15];\n",
    "    Av=x[:,15:18];\n",
    "        \n",
    "    return E,Ev,S,Sv,A,Av\n"
   ]
  },
  {
   "cell_type": "code",
   "execution_count": 24,
   "metadata": {
    "collapsed": false
   },
   "outputs": [],
   "source": [
    "def encheck3bd(E,Ev,S,Sv,A,Av):\n",
    "\n",
    "    G=39.4316;\n",
    "    \n",
    "    M=1;\n",
    "    m=3.0025*10**(-6);\n",
    "    a=3.6953*10**(-8);\n",
    "    \n",
    "    KE = 0.5*(m*(np.square(Ev[:,0])+np.square(Ev[:,1])+np.square(Ev[:,2]))\n",
    "             +M*(np.square(Sv[:,0])+np.square(Sv[:,1])+np.square(Sv[:,2]))\n",
    "             +a*(np.square(Av[:,0])+np.square(Av[:,1])+np.square(Av[:,2])));\n",
    "         \n",
    "    rse=np.sqrt(np.square(E[:,0]-S[:,0])+np.square(E[:,1]-S[:,1])+np.square(E[:,2]-S[:,2]));\n",
    "    rae=np.sqrt(np.square(E[:,0]-A[:,0])+np.square(E[:,1]-A[:,1])+np.square(E[:,2]-A[:,2]));\n",
    "    ras=np.sqrt(np.square(S[:,0]-A[:,0])+np.square(S[:,1]-A[:,1])+np.square(S[:,2]-A[:,2]));\n",
    "    \n",
    "    PE = -G*M*m*np.reciprocal(rse)-G*M*a*np.reciprocal(ras) -G*a*m*np.reciprocal(rae);\n",
    "    \n",
    "    \n",
    "    \n",
    "    plt.plot(KE,'r');\n",
    "    plt.plot(PE,'g');\n",
    "    print(np.var(KE+PE))\n",
    "    plt.plot(KE+PE,'b');\n",
    "    plt.show()\n",
    "\n",
    "    \n",
    "\n"
   ]
  },
  {
   "cell_type": "code",
   "execution_count": 32,
   "metadata": {
    "collapsed": false
   },
   "outputs": [],
   "source": [
    "def ditances(E1,E2,E3):\n",
    "\n",
    "          \n",
    "          E12=np.sqrt((E1[:,0]-E2[:,0])**2+(E1[:,1]-E2[:,1])**2+(E1[:,2]-E2[:,2])**2);\n",
    "          E13=np.sqrt((E1[:,0]-E3[:,0])**2+(E1[:,1]-E3[:,1])**2+(E1[:,2]-E3[:,2])**2);\n",
    "          E32=np.sqrt((E3[:,0]-E2[:,0])**2+(E3[:,1]-E2[:,1])**2+(E3[:,2]-E2[:,2])**2);\n",
    "        \n",
    "          plt.plot(E12,'r');\n",
    "          plt.plot(E13,'b');\n",
    "          plt.plot(E32,'g');\n",
    "            \n",
    "          return np.sum(np.abs(E12-L))+np.sum(np.abs(E13-L))+np.sum(np.abs(E32-L))\n",
    "            \n",
    "    \n"
   ]
  },
  {
   "cell_type": "code",
   "execution_count": 33,
   "metadata": {
    "collapsed": false,
    "scrolled": true
   },
   "outputs": [],
   "source": [
    "\n",
    "def run(pha1,pha2):\n",
    "    L=0.0067;\n",
    "\n",
    "    xe=[1.0167,0,0];\n",
    "    ve=[0,6.1745,0];\n",
    "    xs=[0,0,0];\n",
    "    vs=[0,0,0];\n",
    "    xa=[0.9611,-0.3295,L/2];\n",
    "    va=[2.0364,5.8381,0];\n",
    "\n",
    "    [E1,Ev1,S,Sv,A1,Av1]= earsunsat(xe,ve,xs,vs,xa,va);\n",
    "\n",
    "\n",
    "    \n",
    "\n",
    "    # pha1=2451 ;\n",
    "\n",
    "\n",
    "    xa=[A1[pha1,0]*cos(2*pi/3)-A1[pha1,1]*sin(2*pi/3),A1[pha1,1]*cos(2*pi/3)+A1[pha1,0]*sin(2*pi/3),A1[pha1,2]];\n",
    "    va=[Av1[pha1,0]*cos(2*pi/3)-Av1[pha1,1]*sin(2*pi/3),Av1[pha1,1]*cos(2*pi/3)+Av1[pha1,0]*sin(2*pi/3),Av1[pha1,2]];\n",
    "\n",
    "\n",
    "    [E2,Ev2,S,Sv,A2,Av2]= earsunsat(xe,ve,xs,vs,xa,va);\n",
    "\n",
    "\n",
    "\n",
    "\n",
    "    # pha2=1221;\n",
    "\n",
    "    xa=[A1[pha2,0]*cos(4*pi/3)-A1[pha2,1]*sin(4*pi/3),A1[pha2,1]*cos(4*pi/3)+A1[pha2,0]*sin(4*pi/3),A1[pha2,2]];\n",
    "    va=[Av1[pha2,0]*cos(4*pi/3)-Av1[pha2,1]*sin(4*pi/3),Av1[pha2,1]*cos(4*pi/3)+Av1[pha2,0]*sin(4*pi/3),Av1[pha2,2]];\n",
    "\n",
    "\n",
    "    [E3,Ev3,S,Sv,A3,Av3]= earsunsat(xe,ve,xs,vs,xa,va);\n",
    "    \n",
    "    # encheck3bd(E1,Ev1,S,Sv,A1,Av1)\n",
    "    min=ditances(A1,A2,A3)\n",
    "    print(pha1,pha2,min)\n",
    "    \n",
    "    return min\n"
   ]
  },
  {
   "cell_type": "code",
   "execution_count": 35,
   "metadata": {
    "collapsed": false,
    "scrolled": true
   },
   "outputs": [
    {
     "name": "stderr",
     "output_type": "stream",
     "text": [
      "/home/elsy/workspace/PyLisa/env/lib/python3.5/site-packages/ipykernel/__main__.py:23: VisibleDeprecationWarning: using a non-integer number instead of an integer will result in an error in the future\n",
      "/home/elsy/workspace/PyLisa/env/lib/python3.5/site-packages/ipykernel/__main__.py:24: VisibleDeprecationWarning: using a non-integer number instead of an integer will result in an error in the future\n"
     ]
    },
    {
     "name": "stdout",
     "output_type": "stream",
     "text": [
      "2437 1218 182010.992574\n"
     ]
    },
    {
     "data": {
      "image/png": "[encoded data removed]",
      "text/plain": [
       "<matplotlib.figure.Figure at 0x7f946aa749b0>"
      ]
     },
     "metadata": {},
     "output_type": "display_data"
    }
   ],
   "source": [
    "run(2437,1218)\n",
    "#run(23388,11694)\n",
    "plt.plot(L*np.ones(100000))\n",
    "#run(2451,1221)\n",
    "plt.show()"
   ]
  },
  {
   "cell_type": "code",
   "execution_count": 28,
   "metadata": {
    "collapsed": false,
    "scrolled": true
   },
   "outputs": [
    {
     "name": "stderr",
     "output_type": "stream",
     "text": [
      "/home/elsy/workspace/PyLisa/env/lib/python3.5/site-packages/ipykernel/__main__.py:23: VisibleDeprecationWarning: using a non-integer number instead of an integer will result in an error in the future\n",
      "/home/elsy/workspace/PyLisa/env/lib/python3.5/site-packages/ipykernel/__main__.py:24: VisibleDeprecationWarning: using a non-integer number instead of an integer will result in an error in the future\n",
      "/home/elsy/workspace/PyLisa/env/lib/python3.5/site-packages/ipykernel/__main__.py:20: VisibleDeprecationWarning: using a non-integer number instead of an integer will result in an error in the future\n",
      "/home/elsy/workspace/PyLisa/env/lib/python3.5/site-packages/ipykernel/__main__.py:21: VisibleDeprecationWarning: using a non-integer number instead of an integer will result in an error in the future\n",
      "/home/elsy/workspace/PyLisa/env/lib/python3.5/site-packages/ipykernel/__main__.py:31: VisibleDeprecationWarning: using a non-integer number instead of an integer will result in an error in the future\n",
      "/home/elsy/workspace/PyLisa/env/lib/python3.5/site-packages/ipykernel/__main__.py:32: VisibleDeprecationWarning: using a non-integer number instead of an integer will result in an error in the future\n"
     ]
    },
    {
     "ename": "NameError",
     "evalue": "name 'L' is not defined",
     "output_type": "error",
     "traceback": [
      "\u001b[0;31m---------------------------------------------------------------------------\u001b[0m",
      "\u001b[0;31mNameError\u001b[0m                                 Traceback (most recent call last)",
      "\u001b[0;32m<ipython-input-28-8c8fb33f0b96>\u001b[0m in \u001b[0;36m<module>\u001b[0;34m()\u001b[0m\n\u001b[1;32m      1\u001b[0m \u001b[0mbanana\u001b[0m \u001b[0;34m=\u001b[0m \u001b[0;32mlambda\u001b[0m \u001b[0mpha\u001b[0m\u001b[0;34m:\u001b[0m \u001b[0mrun\u001b[0m\u001b[0;34m(\u001b[0m\u001b[0mpha\u001b[0m\u001b[0;34m[\u001b[0m\u001b[0;36m0\u001b[0m\u001b[0;34m]\u001b[0m\u001b[0;34m,\u001b[0m\u001b[0mpha\u001b[0m\u001b[0;34m[\u001b[0m\u001b[0;36m1\u001b[0m\u001b[0;34m]\u001b[0m\u001b[0;34m)\u001b[0m\u001b[0;34m\u001b[0m\u001b[0m\n\u001b[1;32m      2\u001b[0m \u001b[0mguess\u001b[0m \u001b[0;34m=\u001b[0m \u001b[0;34m[\u001b[0m\u001b[0;36m20000\u001b[0m\u001b[0;34m,\u001b[0m\u001b[0;36m10000\u001b[0m\u001b[0;34m]\u001b[0m \u001b[0;31m#just some guess\u001b[0m\u001b[0;34m\u001b[0m\u001b[0m\n\u001b[0;32m----> 3\u001b[0;31m \u001b[0mprint\u001b[0m\u001b[0;34m(\u001b[0m\u001b[0mscipy\u001b[0m\u001b[0;34m.\u001b[0m\u001b[0moptimize\u001b[0m\u001b[0;34m.\u001b[0m\u001b[0mfmin\u001b[0m\u001b[0;34m(\u001b[0m\u001b[0mbanana\u001b[0m\u001b[0;34m,\u001b[0m \u001b[0mguess\u001b[0m\u001b[0;34m)\u001b[0m\u001b[0;34m)\u001b[0m\u001b[0;34m\u001b[0m\u001b[0m\n\u001b[0m",
      "\u001b[0;32m/home/elsy/workspace/PyLisa/env/lib/python3.5/site-packages/scipy/optimize/optimize.py\u001b[0m in \u001b[0;36mfmin\u001b[0;34m(func, x0, args, xtol, ftol, maxiter, maxfun, full_output, disp, retall, callback, initial_simplex)\u001b[0m\n\u001b[1;32m    391\u001b[0m             'initial_simplex': initial_simplex}\n\u001b[1;32m    392\u001b[0m \u001b[0;34m\u001b[0m\u001b[0m\n\u001b[0;32m--> 393\u001b[0;31m     \u001b[0mres\u001b[0m \u001b[0;34m=\u001b[0m \u001b[0m_minimize_neldermead\u001b[0m\u001b[0;34m(\u001b[0m\u001b[0mfunc\u001b[0m\u001b[0;34m,\u001b[0m \u001b[0mx0\u001b[0m\u001b[0;34m,\u001b[0m \u001b[0margs\u001b[0m\u001b[0;34m,\u001b[0m \u001b[0mcallback\u001b[0m\u001b[0;34m=\u001b[0m\u001b[0mcallback\u001b[0m\u001b[0;34m,\u001b[0m \u001b[0;34m**\u001b[0m\u001b[0mopts\u001b[0m\u001b[0;34m)\u001b[0m\u001b[0;34m\u001b[0m\u001b[0m\n\u001b[0m\u001b[1;32m    394\u001b[0m     \u001b[0;32mif\u001b[0m \u001b[0mfull_output\u001b[0m\u001b[0;34m:\u001b[0m\u001b[0;34m\u001b[0m\u001b[0m\n\u001b[1;32m    395\u001b[0m         \u001b[0mretlist\u001b[0m \u001b[0;34m=\u001b[0m \u001b[0mres\u001b[0m\u001b[0;34m[\u001b[0m\u001b[0;34m'x'\u001b[0m\u001b[0;34m]\u001b[0m\u001b[0;34m,\u001b[0m \u001b[0mres\u001b[0m\u001b[0;34m[\u001b[0m\u001b[0;34m'fun'\u001b[0m\u001b[0;34m]\u001b[0m\u001b[0;34m,\u001b[0m \u001b[0mres\u001b[0m\u001b[0;34m[\u001b[0m\u001b[0;34m'nit'\u001b[0m\u001b[0;34m]\u001b[0m\u001b[0;34m,\u001b[0m \u001b[0mres\u001b[0m\u001b[0;34m[\u001b[0m\u001b[0;34m'nfev'\u001b[0m\u001b[0;34m]\u001b[0m\u001b[0;34m,\u001b[0m \u001b[0mres\u001b[0m\u001b[0;34m[\u001b[0m\u001b[0;34m'status'\u001b[0m\u001b[0;34m]\u001b[0m\u001b[0;34m\u001b[0m\u001b[0m\n",
      "\u001b[0;32m/home/elsy/workspace/PyLisa/env/lib/python3.5/site-packages/scipy/optimize/optimize.py\u001b[0m in \u001b[0;36m_minimize_neldermead\u001b[0;34m(func, x0, args, callback, maxiter, maxfev, disp, return_all, initial_simplex, xatol, fatol, **unknown_options)\u001b[0m\n\u001b[1;32m    515\u001b[0m \u001b[0;34m\u001b[0m\u001b[0m\n\u001b[1;32m    516\u001b[0m     \u001b[0;32mfor\u001b[0m \u001b[0mk\u001b[0m \u001b[0;32min\u001b[0m \u001b[0mrange\u001b[0m\u001b[0;34m(\u001b[0m\u001b[0mN\u001b[0m \u001b[0;34m+\u001b[0m \u001b[0;36m1\u001b[0m\u001b[0;34m)\u001b[0m\u001b[0;34m:\u001b[0m\u001b[0;34m\u001b[0m\u001b[0m\n\u001b[0;32m--> 517\u001b[0;31m         \u001b[0mfsim\u001b[0m\u001b[0;34m[\u001b[0m\u001b[0mk\u001b[0m\u001b[0;34m]\u001b[0m \u001b[0;34m=\u001b[0m \u001b[0mfunc\u001b[0m\u001b[0;34m(\u001b[0m\u001b[0msim\u001b[0m\u001b[0;34m[\u001b[0m\u001b[0mk\u001b[0m\u001b[0;34m]\u001b[0m\u001b[0;34m)\u001b[0m\u001b[0;34m\u001b[0m\u001b[0m\n\u001b[0m\u001b[1;32m    518\u001b[0m \u001b[0;34m\u001b[0m\u001b[0m\n\u001b[1;32m    519\u001b[0m     \u001b[0mind\u001b[0m \u001b[0;34m=\u001b[0m \u001b[0mnumpy\u001b[0m\u001b[0;34m.\u001b[0m\u001b[0margsort\u001b[0m\u001b[0;34m(\u001b[0m\u001b[0mfsim\u001b[0m\u001b[0;34m)\u001b[0m\u001b[0;34m\u001b[0m\u001b[0m\n",
      "\u001b[0;32m/home/elsy/workspace/PyLisa/env/lib/python3.5/site-packages/scipy/optimize/optimize.py\u001b[0m in \u001b[0;36mfunction_wrapper\u001b[0;34m(*wrapper_args)\u001b[0m\n\u001b[1;32m    290\u001b[0m     \u001b[0;32mdef\u001b[0m \u001b[0mfunction_wrapper\u001b[0m\u001b[0;34m(\u001b[0m\u001b[0;34m*\u001b[0m\u001b[0mwrapper_args\u001b[0m\u001b[0;34m)\u001b[0m\u001b[0;34m:\u001b[0m\u001b[0;34m\u001b[0m\u001b[0m\n\u001b[1;32m    291\u001b[0m         \u001b[0mncalls\u001b[0m\u001b[0;34m[\u001b[0m\u001b[0;36m0\u001b[0m\u001b[0;34m]\u001b[0m \u001b[0;34m+=\u001b[0m \u001b[0;36m1\u001b[0m\u001b[0;34m\u001b[0m\u001b[0m\n\u001b[0;32m--> 292\u001b[0;31m         \u001b[0;32mreturn\u001b[0m \u001b[0mfunction\u001b[0m\u001b[0;34m(\u001b[0m\u001b[0;34m*\u001b[0m\u001b[0;34m(\u001b[0m\u001b[0mwrapper_args\u001b[0m \u001b[0;34m+\u001b[0m \u001b[0margs\u001b[0m\u001b[0;34m)\u001b[0m\u001b[0;34m)\u001b[0m\u001b[0;34m\u001b[0m\u001b[0m\n\u001b[0m\u001b[1;32m    293\u001b[0m \u001b[0;34m\u001b[0m\u001b[0m\n\u001b[1;32m    294\u001b[0m     \u001b[0;32mreturn\u001b[0m \u001b[0mncalls\u001b[0m\u001b[0;34m,\u001b[0m \u001b[0mfunction_wrapper\u001b[0m\u001b[0;34m\u001b[0m\u001b[0m\n",
      "\u001b[0;32m<ipython-input-28-8c8fb33f0b96>\u001b[0m in \u001b[0;36m<lambda>\u001b[0;34m(pha)\u001b[0m\n\u001b[0;32m----> 1\u001b[0;31m \u001b[0mbanana\u001b[0m \u001b[0;34m=\u001b[0m \u001b[0;32mlambda\u001b[0m \u001b[0mpha\u001b[0m\u001b[0;34m:\u001b[0m \u001b[0mrun\u001b[0m\u001b[0;34m(\u001b[0m\u001b[0mpha\u001b[0m\u001b[0;34m[\u001b[0m\u001b[0;36m0\u001b[0m\u001b[0;34m]\u001b[0m\u001b[0;34m,\u001b[0m\u001b[0mpha\u001b[0m\u001b[0;34m[\u001b[0m\u001b[0;36m1\u001b[0m\u001b[0;34m]\u001b[0m\u001b[0;34m)\u001b[0m\u001b[0;34m\u001b[0m\u001b[0m\n\u001b[0m\u001b[1;32m      2\u001b[0m \u001b[0mguess\u001b[0m \u001b[0;34m=\u001b[0m \u001b[0;34m[\u001b[0m\u001b[0;36m20000\u001b[0m\u001b[0;34m,\u001b[0m\u001b[0;36m10000\u001b[0m\u001b[0;34m]\u001b[0m \u001b[0;31m#just some guess\u001b[0m\u001b[0;34m\u001b[0m\u001b[0m\n\u001b[1;32m      3\u001b[0m \u001b[0mprint\u001b[0m\u001b[0;34m(\u001b[0m\u001b[0mscipy\u001b[0m\u001b[0;34m.\u001b[0m\u001b[0moptimize\u001b[0m\u001b[0;34m.\u001b[0m\u001b[0mfmin\u001b[0m\u001b[0;34m(\u001b[0m\u001b[0mbanana\u001b[0m\u001b[0;34m,\u001b[0m \u001b[0mguess\u001b[0m\u001b[0;34m)\u001b[0m\u001b[0;34m)\u001b[0m\u001b[0;34m\u001b[0m\u001b[0m\n",
      "\u001b[0;32m<ipython-input-27-cd8cea4a6c24>\u001b[0m in \u001b[0;36mrun\u001b[0;34m(pha1, pha2)\u001b[0m\n\u001b[1;32m     36\u001b[0m \u001b[0;34m\u001b[0m\u001b[0m\n\u001b[1;32m     37\u001b[0m     \u001b[0;31m# encheck3bd(E1,Ev1,S,Sv,A1,Av1)\u001b[0m\u001b[0;34m\u001b[0m\u001b[0;34m\u001b[0m\u001b[0m\n\u001b[0;32m---> 38\u001b[0;31m     \u001b[0mmin\u001b[0m\u001b[0;34m=\u001b[0m\u001b[0mditances\u001b[0m\u001b[0;34m(\u001b[0m\u001b[0mA1\u001b[0m\u001b[0;34m,\u001b[0m\u001b[0mA2\u001b[0m\u001b[0;34m,\u001b[0m\u001b[0mA3\u001b[0m\u001b[0;34m)\u001b[0m\u001b[0;34m\u001b[0m\u001b[0m\n\u001b[0m\u001b[1;32m     39\u001b[0m     \u001b[0mprint\u001b[0m\u001b[0;34m(\u001b[0m\u001b[0mpha1\u001b[0m\u001b[0;34m,\u001b[0m\u001b[0mpha2\u001b[0m\u001b[0;34m,\u001b[0m\u001b[0mmin\u001b[0m\u001b[0;34m)\u001b[0m\u001b[0;34m\u001b[0m\u001b[0m\n\u001b[1;32m     40\u001b[0m \u001b[0;34m\u001b[0m\u001b[0m\n",
      "\u001b[0;32m<ipython-input-26-9bf3b08d106d>\u001b[0m in \u001b[0;36mditances\u001b[0;34m(E1, E2, E3)\u001b[0m\n\u001b[1;32m     10\u001b[0m           \u001b[0;31m#plt.plot(E32,'g');\u001b[0m\u001b[0;34m\u001b[0m\u001b[0;34m\u001b[0m\u001b[0m\n\u001b[1;32m     11\u001b[0m \u001b[0;34m\u001b[0m\u001b[0m\n\u001b[0;32m---> 12\u001b[0;31m           \u001b[0;32mreturn\u001b[0m \u001b[0mnp\u001b[0m\u001b[0;34m.\u001b[0m\u001b[0msum\u001b[0m\u001b[0;34m(\u001b[0m\u001b[0mnp\u001b[0m\u001b[0;34m.\u001b[0m\u001b[0mabs\u001b[0m\u001b[0;34m(\u001b[0m\u001b[0mE12\u001b[0m\u001b[0;34m-\u001b[0m\u001b[0mL\u001b[0m\u001b[0;34m)\u001b[0m\u001b[0;34m)\u001b[0m\u001b[0;34m+\u001b[0m\u001b[0mnp\u001b[0m\u001b[0;34m.\u001b[0m\u001b[0msum\u001b[0m\u001b[0;34m(\u001b[0m\u001b[0mnp\u001b[0m\u001b[0;34m.\u001b[0m\u001b[0mabs\u001b[0m\u001b[0;34m(\u001b[0m\u001b[0mE13\u001b[0m\u001b[0;34m-\u001b[0m\u001b[0mL\u001b[0m\u001b[0;34m)\u001b[0m\u001b[0;34m)\u001b[0m\u001b[0;34m+\u001b[0m\u001b[0mnp\u001b[0m\u001b[0;34m.\u001b[0m\u001b[0msum\u001b[0m\u001b[0;34m(\u001b[0m\u001b[0mnp\u001b[0m\u001b[0;34m.\u001b[0m\u001b[0mabs\u001b[0m\u001b[0;34m(\u001b[0m\u001b[0mE32\u001b[0m\u001b[0;34m-\u001b[0m\u001b[0mL\u001b[0m\u001b[0;34m)\u001b[0m\u001b[0;34m)\u001b[0m\u001b[0;34m\u001b[0m\u001b[0m\n\u001b[0m\u001b[1;32m     13\u001b[0m \u001b[0;34m\u001b[0m\u001b[0m\n\u001b[1;32m     14\u001b[0m \u001b[0;34m\u001b[0m\u001b[0m\n",
      "\u001b[0;31mNameError\u001b[0m: name 'L' is not defined"
     ]
    }
   ],
   "source": [
    "banana = lambda pha: run(pha[0],pha[1])\n",
    "guess = [20000,10000] #just some guess\n",
    "print(scipy.optimize.fmin(banana, guess))"
   ]
  },
  {
   "cell_type": "code",
   "execution_count": null,
   "metadata": {
    "collapsed": false
   },
   "outputs": [],
   "source": [
    "fig = plt.figure()\n",
    "ax = Axes3D(fig)\n",
    "\n",
    "\n",
    "ax.plot(A1[:,0],A1[:,1],A1[:,2],  color=\"red\")\n",
    "ax.plot(A2[:,0],A2[:,1],A2[:,2], color=\"green\")\n",
    "ax.plot(A3[:,0],A3[:,1],A3[:,2],  color=\"blue\")\n",
    "\n",
    "\n",
    "# ax.plot([0],[0],[0],'y*');\n",
    "\n",
    "ax.plot([0],[0],[0], marker='*', markersize=6, color=\"yellow\")\n",
    "    \n",
    "    \n",
    "plt.show()\n",
    "\n"
   ]
  },
  {
   "cell_type": "code",
   "execution_count": null,
   "metadata": {
    "collapsed": true
   },
   "outputs": [],
   "source": []
  }
 ],
 "metadata": {
  "kernelspec": {
   "display_name": "Python 3",
   "language": "python",
   "name": "python3"
  },
  "language_info": {
   "codemirror_mode": {
    "name": "ipython",
    "version": 3
   },
   "file_extension": ".py",
   "mimetype": "text/x-python",
   "name": "python",
   "nbconvert_exporter": "python",
   "pygments_lexer": "ipython3",
   "version": "3.5.2"
  }
 },
 "nbformat": 4,
 "nbformat_minor": 1
}
